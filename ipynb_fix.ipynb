{
 "cells": [
  {
   "cell_type": "markdown",
   "id": "b429e392",
   "metadata": {},
   "source": [
    "Код сгенерирован ChatGPT по запросу:\n",
    "> There was an error rendering your Notebook: the 'state' key is missing from 'metadata.widgets'. Add 'state' to each, or remove 'metadata.widgets'.\n",
    "Using nbformat v5.10.4 and nbconvert v7.16.6\n",
    "\n",
    "И немного отредактирован вручную"
   ]
  },
  {
   "cell_type": "code",
   "execution_count": 1,
   "id": "970356b5",
   "metadata": {},
   "outputs": [],
   "source": [
    "import nbformat\n",
    "import os\n",
    "\n",
    "def clean_widget_metadata(nb_path):\n",
    "    nb = nbformat.read(nb_path, as_version=nbformat.NO_CONVERT)\n",
    "\n",
    "    # Удаление метаданных виджетов из notebook-level metadata\n",
    "    if 'widgets' in nb['metadata']:\n",
    "        del nb['metadata']['widgets']\n",
    "\n",
    "    # Удаление метаданных виджетов из каждой ячейки\n",
    "    for cell in nb.cells:\n",
    "        if 'metadata' in cell and 'widgets' in cell['metadata']:\n",
    "            del cell['metadata']['widgets']\n",
    "\n",
    "    # Формирование пути для сохранения\n",
    "    base, ext = os.path.splitext(nb_path)\n",
    "    fixed_path = f\"{base}_fixed{ext}\"\n",
    "\n",
    "    # Сохранение исправленного ноутбука\n",
    "    nbformat.write(nb, fixed_path)"
   ]
  },
  {
   "cell_type": "code",
   "execution_count": null,
   "id": "b0c2d0e4",
   "metadata": {},
   "outputs": [],
   "source": [
    "# clean_widget_metadata(r\"NLP_HW\\week_5_homework_GPT.ipynb\")"
   ]
  }
 ],
 "metadata": {
  "kernelspec": {
   "display_name": "dl",
   "language": "python",
   "name": "python3"
  },
  "language_info": {
   "codemirror_mode": {
    "name": "ipython",
    "version": 3
   },
   "file_extension": ".py",
   "mimetype": "text/x-python",
   "name": "python",
   "nbconvert_exporter": "python",
   "pygments_lexer": "ipython3",
   "version": "3.10.16"
  }
 },
 "nbformat": 4,
 "nbformat_minor": 5
}

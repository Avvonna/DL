{
 "cells": [
  {
   "cell_type": "markdown",
   "id": "lonely-delta",
   "metadata": {
    "id": "lonely-delta",
    "pycharm": {
     "name": "#%% md\n"
    }
   },
   "source": [
    "# Глубинное обучение, ИИ ВШЭ\n",
    "\n",
    "## Домашнее задание 1. Полносвязные нейронные сети. \n",
    "\n",
    "### Общая информация\n",
    "\n",
    "### Оценивание и штрафы\n",
    "\n",
    "Максимально допустимая оценка за работу без бонусов — 10 баллов. Сдавать задание после указанного срока жесткого дедлайна нельзя.\n",
    "\n",
    "Сдача работы после мягкого дедлайна штрафуется ступенчато, -1 балл в сутки. Один раз за модуль студентам предоставляется возможность использовать отсрочку и сдать в жесткий дедлайн без штрафа.\n",
    "\n",
    "Задание выполняется самостоятельно. «Похожие» решения считаются плагиатом и все задействованные студенты (в том числе те, у кого списали) не могут получить за него больше 0 баллов. Если вы нашли решение какого-то из заданий (или его часть) в открытом источнике, необходимо указать ссылку на этот источник в отдельном блоке в конце вашей работы (скорее всего вы будете не единственным, кто это нашел, поэтому чтобы исключить подозрение в плагиате, необходима ссылка на источник).\n",
    "\n",
    "Неэффективная реализация кода может негативно отразиться на оценке. Также оценка может быть снижена за плохо читаемый код и плохо оформленные графики. Все ответы должны сопровождаться кодом или комментариями о том, как они были получены.\n",
    "\n",
    "Использование генеративных моделей допустимо на следующих условиях:\n",
    "- Количество кода, написанное генеративными моделями, не превышает 30%\n",
    "- Указана модель, использованная для генерации, а также промпт\n",
    "- В конце работы необходимо описать свой опыт использования генеративного ИИ для решения данного домашнего задания. Укажите как часто Вам приходилось исправлять код своими руками или просить модель что-то исправить. Было ли это быстрее, чем написать код самим? \n",
    "\n",
    "В случае невыполнения этих требований работа не оценивается и оценка за неё не превышает 0 баллов.\n",
    "\n",
    "### О задании\n",
    "\n",
    "В этом задании вам предстоит обучить полносвязную нейронную сеть для предсказания года выпуска песни по ее аудио-признакам. Для этого мы будем использовать [Million Songs Dataset](https://samyzaf.com/ML/song_year/song_year.html)."
   ]
  },
  {
   "cell_type": "code",
   "execution_count": null,
   "id": "lonely-component",
   "metadata": {
    "id": "lonely-component",
    "pycharm": {
     "name": "#%%\n"
    }
   },
   "outputs": [],
   "source": [
    "import numpy as np\n",
    "import pandas as pd\n",
    "\n",
    "import matplotlib.pyplot as plt\n",
    "import seaborn as sns\n",
    "\n",
    "import torch\n",
    "import torch.nn as nn\n",
    "from torch.utils.data import DataLoader, TensorDataset\n",
    "\n",
    "from IPython.display import clear_output\n",
    "\n",
    "from sklearn.linear_model import Ridge\n",
    "from sklearn.metrics import mean_squared_error\n",
    "from sklearn.model_selection import train_test_split, GridSearchCV\n",
    "from sklearn.preprocessing import StandardScaler\n",
    "\n",
    "from tqdm.notebook import tqdm\n",
    "\n",
    "## При использовании GPU время выполнения растет, вероятно,\n",
    "## из-за большого количества операций переноса в память GPU\n",
    "# device = torch.device('cuda:0')\n",
    "device = torch.device('cpu')\n",
    "\n",
    "plt.rcParams.update({\"font.size\": 16})\n",
    "sns.set_style(\"whitegrid\")\n",
    "np.random.seed(0xFA1AFE1)"
   ]
  },
  {
   "cell_type": "markdown",
   "id": "marine-logistics",
   "metadata": {
    "id": "marine-logistics"
   },
   "source": [
    "Начнем с того, что скачаем и загрузим данные:"
   ]
  },
  {
   "cell_type": "code",
   "execution_count": null,
   "id": "bridal-archive",
   "metadata": {
    "colab": {
     "base_uri": "https://localhost:8080/"
    },
    "id": "bridal-archive",
    "outputId": "b566a4aa-c000-45d2-d51a-c01204933fdc"
   },
   "outputs": [],
   "source": [
    "## Переписал для windows\n",
    "# !mkdir data 2>nul\n",
    "# !curl -L -o data\\data.txt.zip https://archive.ics.uci.edu/ml/machine-learning-databases/00203/YearPredictionMSD.txt.zip"
   ]
  },
  {
   "cell_type": "code",
   "execution_count": 3,
   "id": "welsh-heavy",
   "metadata": {
    "colab": {
     "base_uri": "https://localhost:8080/",
     "height": 488
    },
    "id": "welsh-heavy",
    "outputId": "a7a78c41-d42a-471f-b5ce-f573a39b10ee"
   },
   "outputs": [
    {
     "data": {
      "application/vnd.microsoft.datawrangler.viewer.v0+json": {
       "columns": [
        {
         "name": "index",
         "rawType": "int64",
         "type": "integer"
        },
        {
         "name": "0",
         "rawType": "int64",
         "type": "integer"
        },
        {
         "name": "1",
         "rawType": "float64",
         "type": "float"
        },
        {
         "name": "2",
         "rawType": "float64",
         "type": "float"
        },
        {
         "name": "3",
         "rawType": "float64",
         "type": "float"
        },
        {
         "name": "4",
         "rawType": "float64",
         "type": "float"
        },
        {
         "name": "5",
         "rawType": "float64",
         "type": "float"
        },
        {
         "name": "6",
         "rawType": "float64",
         "type": "float"
        },
        {
         "name": "7",
         "rawType": "float64",
         "type": "float"
        },
        {
         "name": "8",
         "rawType": "float64",
         "type": "float"
        },
        {
         "name": "9",
         "rawType": "float64",
         "type": "float"
        },
        {
         "name": "10",
         "rawType": "float64",
         "type": "float"
        },
        {
         "name": "11",
         "rawType": "float64",
         "type": "float"
        },
        {
         "name": "12",
         "rawType": "float64",
         "type": "float"
        },
        {
         "name": "13",
         "rawType": "float64",
         "type": "float"
        },
        {
         "name": "14",
         "rawType": "float64",
         "type": "float"
        },
        {
         "name": "15",
         "rawType": "float64",
         "type": "float"
        },
        {
         "name": "16",
         "rawType": "float64",
         "type": "float"
        },
        {
         "name": "17",
         "rawType": "float64",
         "type": "float"
        },
        {
         "name": "18",
         "rawType": "float64",
         "type": "float"
        },
        {
         "name": "19",
         "rawType": "float64",
         "type": "float"
        },
        {
         "name": "20",
         "rawType": "float64",
         "type": "float"
        },
        {
         "name": "21",
         "rawType": "float64",
         "type": "float"
        },
        {
         "name": "22",
         "rawType": "float64",
         "type": "float"
        },
        {
         "name": "23",
         "rawType": "float64",
         "type": "float"
        },
        {
         "name": "24",
         "rawType": "float64",
         "type": "float"
        },
        {
         "name": "25",
         "rawType": "float64",
         "type": "float"
        },
        {
         "name": "26",
         "rawType": "float64",
         "type": "float"
        },
        {
         "name": "27",
         "rawType": "float64",
         "type": "float"
        },
        {
         "name": "28",
         "rawType": "float64",
         "type": "float"
        },
        {
         "name": "29",
         "rawType": "float64",
         "type": "float"
        },
        {
         "name": "30",
         "rawType": "float64",
         "type": "float"
        },
        {
         "name": "31",
         "rawType": "float64",
         "type": "float"
        },
        {
         "name": "32",
         "rawType": "float64",
         "type": "float"
        },
        {
         "name": "33",
         "rawType": "float64",
         "type": "float"
        },
        {
         "name": "34",
         "rawType": "float64",
         "type": "float"
        },
        {
         "name": "35",
         "rawType": "float64",
         "type": "float"
        },
        {
         "name": "36",
         "rawType": "float64",
         "type": "float"
        },
        {
         "name": "37",
         "rawType": "float64",
         "type": "float"
        },
        {
         "name": "38",
         "rawType": "float64",
         "type": "float"
        },
        {
         "name": "39",
         "rawType": "float64",
         "type": "float"
        },
        {
         "name": "40",
         "rawType": "float64",
         "type": "float"
        },
        {
         "name": "41",
         "rawType": "float64",
         "type": "float"
        },
        {
         "name": "42",
         "rawType": "float64",
         "type": "float"
        },
        {
         "name": "43",
         "rawType": "float64",
         "type": "float"
        },
        {
         "name": "44",
         "rawType": "float64",
         "type": "float"
        },
        {
         "name": "45",
         "rawType": "float64",
         "type": "float"
        },
        {
         "name": "46",
         "rawType": "float64",
         "type": "float"
        },
        {
         "name": "47",
         "rawType": "float64",
         "type": "float"
        },
        {
         "name": "48",
         "rawType": "float64",
         "type": "float"
        },
        {
         "name": "49",
         "rawType": "float64",
         "type": "float"
        },
        {
         "name": "50",
         "rawType": "float64",
         "type": "float"
        },
        {
         "name": "51",
         "rawType": "float64",
         "type": "float"
        },
        {
         "name": "52",
         "rawType": "float64",
         "type": "float"
        },
        {
         "name": "53",
         "rawType": "float64",
         "type": "float"
        },
        {
         "name": "54",
         "rawType": "float64",
         "type": "float"
        },
        {
         "name": "55",
         "rawType": "float64",
         "type": "float"
        },
        {
         "name": "56",
         "rawType": "float64",
         "type": "float"
        },
        {
         "name": "57",
         "rawType": "float64",
         "type": "float"
        },
        {
         "name": "58",
         "rawType": "float64",
         "type": "float"
        },
        {
         "name": "59",
         "rawType": "float64",
         "type": "float"
        },
        {
         "name": "60",
         "rawType": "float64",
         "type": "float"
        },
        {
         "name": "61",
         "rawType": "float64",
         "type": "float"
        },
        {
         "name": "62",
         "rawType": "float64",
         "type": "float"
        },
        {
         "name": "63",
         "rawType": "float64",
         "type": "float"
        },
        {
         "name": "64",
         "rawType": "float64",
         "type": "float"
        },
        {
         "name": "65",
         "rawType": "float64",
         "type": "float"
        },
        {
         "name": "66",
         "rawType": "float64",
         "type": "float"
        },
        {
         "name": "67",
         "rawType": "float64",
         "type": "float"
        },
        {
         "name": "68",
         "rawType": "float64",
         "type": "float"
        },
        {
         "name": "69",
         "rawType": "float64",
         "type": "float"
        },
        {
         "name": "70",
         "rawType": "float64",
         "type": "float"
        },
        {
         "name": "71",
         "rawType": "float64",
         "type": "float"
        },
        {
         "name": "72",
         "rawType": "float64",
         "type": "float"
        },
        {
         "name": "73",
         "rawType": "float64",
         "type": "float"
        },
        {
         "name": "74",
         "rawType": "float64",
         "type": "float"
        },
        {
         "name": "75",
         "rawType": "float64",
         "type": "float"
        },
        {
         "name": "76",
         "rawType": "float64",
         "type": "float"
        },
        {
         "name": "77",
         "rawType": "float64",
         "type": "float"
        },
        {
         "name": "78",
         "rawType": "float64",
         "type": "float"
        },
        {
         "name": "79",
         "rawType": "float64",
         "type": "float"
        },
        {
         "name": "80",
         "rawType": "float64",
         "type": "float"
        },
        {
         "name": "81",
         "rawType": "float64",
         "type": "float"
        },
        {
         "name": "82",
         "rawType": "float64",
         "type": "float"
        },
        {
         "name": "83",
         "rawType": "float64",
         "type": "float"
        },
        {
         "name": "84",
         "rawType": "float64",
         "type": "float"
        },
        {
         "name": "85",
         "rawType": "float64",
         "type": "float"
        },
        {
         "name": "86",
         "rawType": "float64",
         "type": "float"
        },
        {
         "name": "87",
         "rawType": "float64",
         "type": "float"
        },
        {
         "name": "88",
         "rawType": "float64",
         "type": "float"
        },
        {
         "name": "89",
         "rawType": "float64",
         "type": "float"
        },
        {
         "name": "90",
         "rawType": "float64",
         "type": "float"
        }
       ],
       "conversionMethod": "pd.DataFrame",
       "ref": "f6e160f9-c15b-4c3b-b739-e29b5d85d2ea",
       "rows": [
        [
         "0",
         "2001",
         "49.94357",
         "21.47114",
         "73.0775",
         "8.74861",
         "-17.40628",
         "-13.09905",
         "-25.01202",
         "-12.23257",
         "7.83089",
         "-2.46783",
         "3.32136",
         "-2.31521",
         "10.20556",
         "611.10913",
         "951.0896",
         "698.11428",
         "408.98485",
         "383.70912",
         "326.51512",
         "238.11327",
         "251.42414",
         "187.17351",
         "100.42652",
         "179.19498",
         "-8.41558",
         "-317.87038",
         "95.86266",
         "48.10259",
         "-95.66303",
         "-18.06215",
         "1.96984",
         "34.42438",
         "11.7267",
         "1.3679",
         "7.79444",
         "-0.36994",
         "-133.67852",
         "-83.26165",
         "-37.29765",
         "73.04667",
         "-37.36684",
         "-3.13853",
         "-24.21531",
         "-13.23066",
         "15.93809",
         "-18.60478",
         "82.15479",
         "240.5798",
         "-10.29407",
         "31.58431",
         "-25.38187",
         "-3.90772",
         "13.29258",
         "41.5506",
         "-7.26272",
         "-21.00863",
         "105.50848",
         "64.29856",
         "26.08481",
         "-44.5911",
         "-8.30657",
         "7.93706",
         "-10.7366",
         "-95.44766",
         "-82.03307",
         "-35.59194",
         "4.69525",
         "70.95626",
         "28.09139",
         "6.02015",
         "-37.13767",
         "-41.1245",
         "-8.40816",
         "7.19877",
         "-8.60176",
         "-5.90857",
         "-12.32437",
         "14.68734",
         "-54.32125",
         "40.14786",
         "13.0162",
         "-54.40548",
         "58.99367",
         "15.37344",
         "1.11144",
         "-23.08793",
         "68.40795",
         "-1.82223",
         "-27.46348",
         "2.26327"
        ],
        [
         "1",
         "2001",
         "48.73215",
         "18.4293",
         "70.32679",
         "12.94636",
         "-10.32437",
         "-24.83777",
         "8.7663",
         "-0.92019",
         "18.76548",
         "4.5921",
         "2.2192",
         "0.34006",
         "44.38997",
         "2056.93836",
         "605.40696",
         "457.41175",
         "777.15347",
         "415.6488",
         "746.47775",
         "366.4532",
         "317.82946",
         "273.07917",
         "141.75921",
         "317.35269",
         "19.48271",
         "-65.25496",
         "162.75145",
         "135.00765",
         "-96.28436",
         "-86.87955",
         "17.38087",
         "45.90742",
         "32.49908",
         "-32.85429",
         "45.1083",
         "26.84939",
         "-302.57328",
         "-41.71932",
         "-138.85034",
         "202.18689",
         "-33.44277",
         "195.04749",
         "-16.93235",
         "-1.09168",
         "-25.38061",
         "-12.19034",
         "-125.94783",
         "121.74212",
         "136.67075",
         "41.18157",
         "28.55107",
         "1.52298",
         "70.99515",
         "-43.63073",
         "-42.55014",
         "129.82848",
         "79.9542",
         "-87.14554",
         "-45.75446",
         "-65.821",
         "-43.90031",
         "-19.45705",
         "12.59163",
         "-407.6413",
         "42.91189",
         "12.1585",
         "-88.37882",
         "42.25246",
         "46.49209",
         "-30.17747",
         "45.98495",
         "130.47892",
         "13.88281",
         "-4.00055",
         "17.85965",
         "-18.32138",
         "-87.99109",
         "14.37524",
         "-22.70119",
         "-58.81266",
         "5.66812",
         "-19.68073",
         "33.04964",
         "42.87836",
         "-9.90378",
         "-32.22788",
         "70.49388",
         "12.04941",
         "58.43453",
         "26.92061"
        ],
        [
         "2",
         "2001",
         "50.95714",
         "31.85602",
         "55.81851",
         "13.41693",
         "-6.57898",
         "-18.5494",
         "-3.27872",
         "-2.35035",
         "16.07017",
         "1.39518",
         "2.73553",
         "0.82804",
         "7.46586",
         "699.54544",
         "1016.00954",
         "594.06748",
         "355.73663",
         "507.39931",
         "387.6991",
         "287.15347",
         "112.37152",
         "161.68928",
         "144.14353",
         "199.29693",
         "-4.24359",
         "-297.00587",
         "-148.36392",
         "-7.94726",
         "-18.7163",
         "12.77542",
         "-25.37725",
         "9.7141",
         "0.13843",
         "26.79723",
         "6.3076",
         "28.70107",
         "-74.89005",
         "-289.19553",
         "-166.26089",
         "13.09302",
         "5.89085",
         "6.89034",
         "-10.9716",
         "1.67565",
         "11.43523",
         "-7.27994",
         "133.08169",
         "141.86758",
         "-56.99356",
         "98.15952",
         "18.50939",
         "16.97216",
         "24.26629",
         "-10.50788",
         "-8.68412",
         "54.75759",
         "194.74034",
         "7.95966",
         "-18.22685",
         "0.06463",
         "-2.63069",
         "26.02561",
         "1.75729",
         "-262.36917",
         "-233.60089",
         "-2.50502",
         "-12.14279",
         "81.37617",
         "2.07554",
         "-1.82381",
         "183.65292",
         "22.64797",
         "-39.98887",
         "43.37381",
         "-31.56737",
         "-4.8884",
         "-36.53213",
         "-23.94662",
         "-84.19275",
         "66.00518",
         "3.038",
         "26.05866",
         "-50.92779",
         "10.93792",
         "-0.07568",
         "43.2013",
         "-115.00698",
         "-0.05859",
         "39.67068",
         "-0.66345"
        ],
        [
         "3",
         "2001",
         "48.2475",
         "-1.89837",
         "36.29772",
         "2.58776",
         "0.9717",
         "-26.21683",
         "5.05097",
         "-10.34124",
         "3.55005",
         "-6.36304",
         "6.63016",
         "-3.35142",
         "37.64085",
         "2174.08189",
         "697.43346",
         "459.24587",
         "742.78961",
         "229.30783",
         "387.89697",
         "249.06662",
         "245.8987",
         "176.20527",
         "98.82222",
         "150.97286",
         "78.49057",
         "-62.00282",
         "43.49659",
         "-96.42719",
         "-108.96608",
         "14.22854",
         "14.54178",
         "-23.55608",
         "-39.36953",
         "-43.59209",
         "20.83714",
         "35.63919",
         "-181.34947",
         "-93.66614",
         "-90.55616",
         "-0.01744",
         "23.22717",
         "-25.48348",
         "-25.8807",
         "12.59198",
         "-24.85116",
         "-7.20736",
         "778.02248",
         "61.1594",
         "23.37585",
         "-97.64925",
         "4.56917",
         "-37.3228",
         "4.15159",
         "12.24315",
         "35.02697",
         "-178.89573",
         "82.46573",
         "-20.49425",
         "101.78577",
         "-19.77808",
         "-21.52657",
         "3.36303",
         "-11.63176",
         "51.55411",
         "-50.57576",
         "-28.14755",
         "-83.15795",
         "-7.3526",
         "-22.11505",
         "1.18279",
         "-122.70467",
         "150.5736",
         "24.37468",
         "41.19821",
         "-37.04318",
         "-28.72986",
         "162.19614",
         "22.18309",
         "-8.63509",
         "85.23416",
         "34.57337",
         "-171.70734",
         "-16.96705",
         "-46.67617",
         "-12.51516",
         "82.58061",
         "-72.08993",
         "9.90558",
         "199.62971",
         "18.85382"
        ],
        [
         "4",
         "2001",
         "50.9702",
         "42.20998",
         "67.09964",
         "8.46791",
         "-15.85279",
         "-16.81409",
         "-12.48207",
         "-9.37636",
         "12.63699",
         "0.93609",
         "1.60923",
         "2.19223",
         "47.32082",
         "894.28471",
         "809.86615",
         "318.78559",
         "435.04497",
         "341.61467",
         "334.30734",
         "322.99589",
         "190.61921",
         "235.84715",
         "96.89517",
         "210.5887",
         "5.60463",
         "-199.63958",
         "204.85812",
         "-77.17695",
         "-65.79741",
         "-6.95097",
         "-12.15262",
         "-3.8541",
         "20.6899",
         "-20.3048",
         "37.15045",
         "11.20673",
         "-124.09519",
         "-295.98542",
         "-33.31169",
         "28.68782",
         "-32.73982",
         "-26.60955",
         "-69.07501",
         "5.73467",
         "-15.47984",
         "-15.55296",
         "150.29661",
         "176.95972",
         "58.18014",
         "25.96952",
         "45.25506",
         "10.42226",
         "27.88782",
         "-17.12676",
         "-31.54772",
         "-76.86293",
         "41.17343",
         "-138.32535",
         "-53.96905",
         "-21.30266",
         "-24.87362",
         "-2.46595",
         "-4.05003",
         "-56.51161",
         "-34.56445",
         "-5.07092",
         "-47.75605",
         "64.81513",
         "-97.42948",
         "-12.59418",
         "55.23699",
         "28.85657",
         "54.53513",
         "-31.97077",
         "20.03279",
         "-8.07892",
         "-55.12617",
         "26.58961",
         "-10.27183",
         "-30.64232",
         "9.92661",
         "-55.95724",
         "64.92712",
         "-17.72522",
         "-1.49237",
         "-7.50035",
         "51.76631",
         "7.88713",
         "55.66926",
         "28.74903"
        ]
       ],
       "shape": {
        "columns": 91,
        "rows": 5
       }
      },
      "text/html": [
       "<div>\n",
       "<style scoped>\n",
       "    .dataframe tbody tr th:only-of-type {\n",
       "        vertical-align: middle;\n",
       "    }\n",
       "\n",
       "    .dataframe tbody tr th {\n",
       "        vertical-align: top;\n",
       "    }\n",
       "\n",
       "    .dataframe thead th {\n",
       "        text-align: right;\n",
       "    }\n",
       "</style>\n",
       "<table border=\"1\" class=\"dataframe\">\n",
       "  <thead>\n",
       "    <tr style=\"text-align: right;\">\n",
       "      <th></th>\n",
       "      <th>0</th>\n",
       "      <th>1</th>\n",
       "      <th>2</th>\n",
       "      <th>3</th>\n",
       "      <th>4</th>\n",
       "      <th>5</th>\n",
       "      <th>6</th>\n",
       "      <th>7</th>\n",
       "      <th>8</th>\n",
       "      <th>9</th>\n",
       "      <th>...</th>\n",
       "      <th>81</th>\n",
       "      <th>82</th>\n",
       "      <th>83</th>\n",
       "      <th>84</th>\n",
       "      <th>85</th>\n",
       "      <th>86</th>\n",
       "      <th>87</th>\n",
       "      <th>88</th>\n",
       "      <th>89</th>\n",
       "      <th>90</th>\n",
       "    </tr>\n",
       "  </thead>\n",
       "  <tbody>\n",
       "    <tr>\n",
       "      <th>0</th>\n",
       "      <td>2001</td>\n",
       "      <td>49.94357</td>\n",
       "      <td>21.47114</td>\n",
       "      <td>73.07750</td>\n",
       "      <td>8.74861</td>\n",
       "      <td>-17.40628</td>\n",
       "      <td>-13.09905</td>\n",
       "      <td>-25.01202</td>\n",
       "      <td>-12.23257</td>\n",
       "      <td>7.83089</td>\n",
       "      <td>...</td>\n",
       "      <td>13.01620</td>\n",
       "      <td>-54.40548</td>\n",
       "      <td>58.99367</td>\n",
       "      <td>15.37344</td>\n",
       "      <td>1.11144</td>\n",
       "      <td>-23.08793</td>\n",
       "      <td>68.40795</td>\n",
       "      <td>-1.82223</td>\n",
       "      <td>-27.46348</td>\n",
       "      <td>2.26327</td>\n",
       "    </tr>\n",
       "    <tr>\n",
       "      <th>1</th>\n",
       "      <td>2001</td>\n",
       "      <td>48.73215</td>\n",
       "      <td>18.42930</td>\n",
       "      <td>70.32679</td>\n",
       "      <td>12.94636</td>\n",
       "      <td>-10.32437</td>\n",
       "      <td>-24.83777</td>\n",
       "      <td>8.76630</td>\n",
       "      <td>-0.92019</td>\n",
       "      <td>18.76548</td>\n",
       "      <td>...</td>\n",
       "      <td>5.66812</td>\n",
       "      <td>-19.68073</td>\n",
       "      <td>33.04964</td>\n",
       "      <td>42.87836</td>\n",
       "      <td>-9.90378</td>\n",
       "      <td>-32.22788</td>\n",
       "      <td>70.49388</td>\n",
       "      <td>12.04941</td>\n",
       "      <td>58.43453</td>\n",
       "      <td>26.92061</td>\n",
       "    </tr>\n",
       "    <tr>\n",
       "      <th>2</th>\n",
       "      <td>2001</td>\n",
       "      <td>50.95714</td>\n",
       "      <td>31.85602</td>\n",
       "      <td>55.81851</td>\n",
       "      <td>13.41693</td>\n",
       "      <td>-6.57898</td>\n",
       "      <td>-18.54940</td>\n",
       "      <td>-3.27872</td>\n",
       "      <td>-2.35035</td>\n",
       "      <td>16.07017</td>\n",
       "      <td>...</td>\n",
       "      <td>3.03800</td>\n",
       "      <td>26.05866</td>\n",
       "      <td>-50.92779</td>\n",
       "      <td>10.93792</td>\n",
       "      <td>-0.07568</td>\n",
       "      <td>43.20130</td>\n",
       "      <td>-115.00698</td>\n",
       "      <td>-0.05859</td>\n",
       "      <td>39.67068</td>\n",
       "      <td>-0.66345</td>\n",
       "    </tr>\n",
       "    <tr>\n",
       "      <th>3</th>\n",
       "      <td>2001</td>\n",
       "      <td>48.24750</td>\n",
       "      <td>-1.89837</td>\n",
       "      <td>36.29772</td>\n",
       "      <td>2.58776</td>\n",
       "      <td>0.97170</td>\n",
       "      <td>-26.21683</td>\n",
       "      <td>5.05097</td>\n",
       "      <td>-10.34124</td>\n",
       "      <td>3.55005</td>\n",
       "      <td>...</td>\n",
       "      <td>34.57337</td>\n",
       "      <td>-171.70734</td>\n",
       "      <td>-16.96705</td>\n",
       "      <td>-46.67617</td>\n",
       "      <td>-12.51516</td>\n",
       "      <td>82.58061</td>\n",
       "      <td>-72.08993</td>\n",
       "      <td>9.90558</td>\n",
       "      <td>199.62971</td>\n",
       "      <td>18.85382</td>\n",
       "    </tr>\n",
       "    <tr>\n",
       "      <th>4</th>\n",
       "      <td>2001</td>\n",
       "      <td>50.97020</td>\n",
       "      <td>42.20998</td>\n",
       "      <td>67.09964</td>\n",
       "      <td>8.46791</td>\n",
       "      <td>-15.85279</td>\n",
       "      <td>-16.81409</td>\n",
       "      <td>-12.48207</td>\n",
       "      <td>-9.37636</td>\n",
       "      <td>12.63699</td>\n",
       "      <td>...</td>\n",
       "      <td>9.92661</td>\n",
       "      <td>-55.95724</td>\n",
       "      <td>64.92712</td>\n",
       "      <td>-17.72522</td>\n",
       "      <td>-1.49237</td>\n",
       "      <td>-7.50035</td>\n",
       "      <td>51.76631</td>\n",
       "      <td>7.88713</td>\n",
       "      <td>55.66926</td>\n",
       "      <td>28.74903</td>\n",
       "    </tr>\n",
       "  </tbody>\n",
       "</table>\n",
       "<p>5 rows × 91 columns</p>\n",
       "</div>"
      ],
      "text/plain": [
       "     0         1         2         3         4         5         6         7   \\\n",
       "0  2001  49.94357  21.47114  73.07750   8.74861 -17.40628 -13.09905 -25.01202   \n",
       "1  2001  48.73215  18.42930  70.32679  12.94636 -10.32437 -24.83777   8.76630   \n",
       "2  2001  50.95714  31.85602  55.81851  13.41693  -6.57898 -18.54940  -3.27872   \n",
       "3  2001  48.24750  -1.89837  36.29772   2.58776   0.97170 -26.21683   5.05097   \n",
       "4  2001  50.97020  42.20998  67.09964   8.46791 -15.85279 -16.81409 -12.48207   \n",
       "\n",
       "         8         9   ...        81         82        83        84        85  \\\n",
       "0 -12.23257   7.83089  ...  13.01620  -54.40548  58.99367  15.37344   1.11144   \n",
       "1  -0.92019  18.76548  ...   5.66812  -19.68073  33.04964  42.87836  -9.90378   \n",
       "2  -2.35035  16.07017  ...   3.03800   26.05866 -50.92779  10.93792  -0.07568   \n",
       "3 -10.34124   3.55005  ...  34.57337 -171.70734 -16.96705 -46.67617 -12.51516   \n",
       "4  -9.37636  12.63699  ...   9.92661  -55.95724  64.92712 -17.72522  -1.49237   \n",
       "\n",
       "         86         87        88         89        90  \n",
       "0 -23.08793   68.40795  -1.82223  -27.46348   2.26327  \n",
       "1 -32.22788   70.49388  12.04941   58.43453  26.92061  \n",
       "2  43.20130 -115.00698  -0.05859   39.67068  -0.66345  \n",
       "3  82.58061  -72.08993   9.90558  199.62971  18.85382  \n",
       "4  -7.50035   51.76631   7.88713   55.66926  28.74903  \n",
       "\n",
       "[5 rows x 91 columns]"
      ]
     },
     "execution_count": 3,
     "metadata": {},
     "output_type": "execute_result"
    }
   ],
   "source": [
    "df = pd.read_csv(\"data\\data.txt.zip\", header=None)\n",
    "df.head()"
   ]
  },
  {
   "cell_type": "markdown",
   "id": "single-hearts",
   "metadata": {
    "id": "single-hearts"
   },
   "source": [
    "Посмотрим на статистики по данным."
   ]
  },
  {
   "cell_type": "code",
   "execution_count": 4,
   "id": "interior-bacteria",
   "metadata": {
    "id": "interior-bacteria",
    "outputId": "36be6907-4d10-48d2-9822-ee20d46bd0b3"
   },
   "outputs": [
    {
     "data": {
      "application/vnd.microsoft.datawrangler.viewer.v0+json": {
       "columns": [
        {
         "name": "index",
         "rawType": "object",
         "type": "string"
        },
        {
         "name": "0",
         "rawType": "float64",
         "type": "float"
        },
        {
         "name": "1",
         "rawType": "float64",
         "type": "float"
        },
        {
         "name": "2",
         "rawType": "float64",
         "type": "float"
        },
        {
         "name": "3",
         "rawType": "float64",
         "type": "float"
        },
        {
         "name": "4",
         "rawType": "float64",
         "type": "float"
        },
        {
         "name": "5",
         "rawType": "float64",
         "type": "float"
        },
        {
         "name": "6",
         "rawType": "float64",
         "type": "float"
        },
        {
         "name": "7",
         "rawType": "float64",
         "type": "float"
        },
        {
         "name": "8",
         "rawType": "float64",
         "type": "float"
        },
        {
         "name": "9",
         "rawType": "float64",
         "type": "float"
        },
        {
         "name": "10",
         "rawType": "float64",
         "type": "float"
        },
        {
         "name": "11",
         "rawType": "float64",
         "type": "float"
        },
        {
         "name": "12",
         "rawType": "float64",
         "type": "float"
        },
        {
         "name": "13",
         "rawType": "float64",
         "type": "float"
        },
        {
         "name": "14",
         "rawType": "float64",
         "type": "float"
        },
        {
         "name": "15",
         "rawType": "float64",
         "type": "float"
        },
        {
         "name": "16",
         "rawType": "float64",
         "type": "float"
        },
        {
         "name": "17",
         "rawType": "float64",
         "type": "float"
        },
        {
         "name": "18",
         "rawType": "float64",
         "type": "float"
        },
        {
         "name": "19",
         "rawType": "float64",
         "type": "float"
        },
        {
         "name": "20",
         "rawType": "float64",
         "type": "float"
        },
        {
         "name": "21",
         "rawType": "float64",
         "type": "float"
        },
        {
         "name": "22",
         "rawType": "float64",
         "type": "float"
        },
        {
         "name": "23",
         "rawType": "float64",
         "type": "float"
        },
        {
         "name": "24",
         "rawType": "float64",
         "type": "float"
        },
        {
         "name": "25",
         "rawType": "float64",
         "type": "float"
        },
        {
         "name": "26",
         "rawType": "float64",
         "type": "float"
        },
        {
         "name": "27",
         "rawType": "float64",
         "type": "float"
        },
        {
         "name": "28",
         "rawType": "float64",
         "type": "float"
        },
        {
         "name": "29",
         "rawType": "float64",
         "type": "float"
        },
        {
         "name": "30",
         "rawType": "float64",
         "type": "float"
        },
        {
         "name": "31",
         "rawType": "float64",
         "type": "float"
        },
        {
         "name": "32",
         "rawType": "float64",
         "type": "float"
        },
        {
         "name": "33",
         "rawType": "float64",
         "type": "float"
        },
        {
         "name": "34",
         "rawType": "float64",
         "type": "float"
        },
        {
         "name": "35",
         "rawType": "float64",
         "type": "float"
        },
        {
         "name": "36",
         "rawType": "float64",
         "type": "float"
        },
        {
         "name": "37",
         "rawType": "float64",
         "type": "float"
        },
        {
         "name": "38",
         "rawType": "float64",
         "type": "float"
        },
        {
         "name": "39",
         "rawType": "float64",
         "type": "float"
        },
        {
         "name": "40",
         "rawType": "float64",
         "type": "float"
        },
        {
         "name": "41",
         "rawType": "float64",
         "type": "float"
        },
        {
         "name": "42",
         "rawType": "float64",
         "type": "float"
        },
        {
         "name": "43",
         "rawType": "float64",
         "type": "float"
        },
        {
         "name": "44",
         "rawType": "float64",
         "type": "float"
        },
        {
         "name": "45",
         "rawType": "float64",
         "type": "float"
        },
        {
         "name": "46",
         "rawType": "float64",
         "type": "float"
        },
        {
         "name": "47",
         "rawType": "float64",
         "type": "float"
        },
        {
         "name": "48",
         "rawType": "float64",
         "type": "float"
        },
        {
         "name": "49",
         "rawType": "float64",
         "type": "float"
        },
        {
         "name": "50",
         "rawType": "float64",
         "type": "float"
        },
        {
         "name": "51",
         "rawType": "float64",
         "type": "float"
        },
        {
         "name": "52",
         "rawType": "float64",
         "type": "float"
        },
        {
         "name": "53",
         "rawType": "float64",
         "type": "float"
        },
        {
         "name": "54",
         "rawType": "float64",
         "type": "float"
        },
        {
         "name": "55",
         "rawType": "float64",
         "type": "float"
        },
        {
         "name": "56",
         "rawType": "float64",
         "type": "float"
        },
        {
         "name": "57",
         "rawType": "float64",
         "type": "float"
        },
        {
         "name": "58",
         "rawType": "float64",
         "type": "float"
        },
        {
         "name": "59",
         "rawType": "float64",
         "type": "float"
        },
        {
         "name": "60",
         "rawType": "float64",
         "type": "float"
        },
        {
         "name": "61",
         "rawType": "float64",
         "type": "float"
        },
        {
         "name": "62",
         "rawType": "float64",
         "type": "float"
        },
        {
         "name": "63",
         "rawType": "float64",
         "type": "float"
        },
        {
         "name": "64",
         "rawType": "float64",
         "type": "float"
        },
        {
         "name": "65",
         "rawType": "float64",
         "type": "float"
        },
        {
         "name": "66",
         "rawType": "float64",
         "type": "float"
        },
        {
         "name": "67",
         "rawType": "float64",
         "type": "float"
        },
        {
         "name": "68",
         "rawType": "float64",
         "type": "float"
        },
        {
         "name": "69",
         "rawType": "float64",
         "type": "float"
        },
        {
         "name": "70",
         "rawType": "float64",
         "type": "float"
        },
        {
         "name": "71",
         "rawType": "float64",
         "type": "float"
        },
        {
         "name": "72",
         "rawType": "float64",
         "type": "float"
        },
        {
         "name": "73",
         "rawType": "float64",
         "type": "float"
        },
        {
         "name": "74",
         "rawType": "float64",
         "type": "float"
        },
        {
         "name": "75",
         "rawType": "float64",
         "type": "float"
        },
        {
         "name": "76",
         "rawType": "float64",
         "type": "float"
        },
        {
         "name": "77",
         "rawType": "float64",
         "type": "float"
        },
        {
         "name": "78",
         "rawType": "float64",
         "type": "float"
        },
        {
         "name": "79",
         "rawType": "float64",
         "type": "float"
        },
        {
         "name": "80",
         "rawType": "float64",
         "type": "float"
        },
        {
         "name": "81",
         "rawType": "float64",
         "type": "float"
        },
        {
         "name": "82",
         "rawType": "float64",
         "type": "float"
        },
        {
         "name": "83",
         "rawType": "float64",
         "type": "float"
        },
        {
         "name": "84",
         "rawType": "float64",
         "type": "float"
        },
        {
         "name": "85",
         "rawType": "float64",
         "type": "float"
        },
        {
         "name": "86",
         "rawType": "float64",
         "type": "float"
        },
        {
         "name": "87",
         "rawType": "float64",
         "type": "float"
        },
        {
         "name": "88",
         "rawType": "float64",
         "type": "float"
        },
        {
         "name": "89",
         "rawType": "float64",
         "type": "float"
        },
        {
         "name": "90",
         "rawType": "float64",
         "type": "float"
        }
       ],
       "conversionMethod": "pd.DataFrame",
       "ref": "4149e45d-301e-4419-8126-c003a437ce7d",
       "rows": [
        [
         "count",
         "515345.0",
         "515345.0",
         "515345.0",
         "515345.0",
         "515345.0",
         "515345.0",
         "515345.0",
         "515345.0",
         "515345.0",
         "515345.0",
         "515345.0",
         "515345.0",
         "515345.0",
         "515345.0",
         "515345.0",
         "515345.0",
         "515345.0",
         "515345.0",
         "515345.0",
         "515345.0",
         "515345.0",
         "515345.0",
         "515345.0",
         "515345.0",
         "515345.0",
         "515345.0",
         "515345.0",
         "515345.0",
         "515345.0",
         "515345.0",
         "515345.0",
         "515345.0",
         "515345.0",
         "515345.0",
         "515345.0",
         "515345.0",
         "515345.0",
         "515345.0",
         "515345.0",
         "515345.0",
         "515345.0",
         "515345.0",
         "515345.0",
         "515345.0",
         "515345.0",
         "515345.0",
         "515345.0",
         "515345.0",
         "515345.0",
         "515345.0",
         "515345.0",
         "515345.0",
         "515345.0",
         "515345.0",
         "515345.0",
         "515345.0",
         "515345.0",
         "515345.0",
         "515345.0",
         "515345.0",
         "515345.0",
         "515345.0",
         "515345.0",
         "515345.0",
         "515345.0",
         "515345.0",
         "515345.0",
         "515345.0",
         "515345.0",
         "515345.0",
         "515345.0",
         "515345.0",
         "515345.0",
         "515345.0",
         "515345.0",
         "515345.0",
         "515345.0",
         "515345.0",
         "515345.0",
         "515345.0",
         "515345.0",
         "515345.0",
         "515345.0",
         "515345.0",
         "515345.0",
         "515345.0",
         "515345.0",
         "515345.0",
         "515345.0",
         "515345.0",
         "515345.0"
        ],
        [
         "mean",
         "1998.3970815667174",
         "43.387125625765265",
         "1.2895541971106739",
         "8.658347088513521",
         "1.164124465959697",
         "-6.55360070455714",
         "-9.521975199837001",
         "-2.3910894249095267",
         "-1.7932355097264934",
         "3.7278758078374667",
         "1.8823849087310442",
         "-0.1465270163288671",
         "2.5460633571102855",
         "33.71400556176931",
         "2439.3593750900263",
         "1967.7342022430607",
         "1514.8599019875037",
         "910.9813437631101",
         "879.1467209559419",
         "603.7374338429205",
         "517.5793385511843",
         "393.96221482428274",
         "325.73316987026163",
         "288.8850853951819",
         "291.9732376641668",
         "43.03196871544304",
         "43.314872502905814",
         "-46.44900569721253",
         "-27.67278300109635",
         "14.958490613744193",
         "44.51485949767631",
         "5.131786398936636",
         "24.03430856888104",
         "9.498816273059797",
         "-4.178855789092746",
         "0.4994746608582598",
         "72.6522672188534",
         "-51.441255953953174",
         "117.92105600048511",
         "-189.88088456635847",
         "23.096082141031737",
         "-1.2830049177347218",
         "18.1479732977908",
         "-51.959022141303386",
         "3.2326857496046344",
         "-1.4883206658840191",
         "6.3340837961171665",
         "78.70242693927368",
         "142.69686774475355",
         "-86.5164764018279",
         "25.240752789160656",
         "6.378510636136957",
         "28.294082167790517",
         "12.772240660276125",
         "1.7004743435562584",
         "-10.20515525325753",
         "64.10126245066895",
         "104.82208515551716",
         "-0.02648081374613092",
         "38.678040285362236",
         "-27.989985106714926",
         "3.3017386494678336",
         "0.30712683400440494",
         "-0.4788275869951197",
         "-138.2232236245234",
         "-0.6960651284091239",
         "0.24258247544848596",
         "3.1517509777333625",
         "27.64274488579496",
         "31.822243641696332",
         "-0.8359501251782783",
         "-8.93156350081984",
         "4.8492529574362795",
         "-27.34764600211509",
         "-11.938792434602064",
         "-21.572137257468295",
         "-5.576196130475698",
         "-23.304323741707005",
         "31.113052772880298",
         "-104.9747944207861",
         "26.9623932084914",
         "15.755406044028756",
         "-73.46149977267655",
         "41.54242155146554",
         "37.93411873529383",
         "0.31575127167237466",
         "17.669213222656666",
         "-26.315335961986627",
         "4.458641107180626",
         "20.035136407688054",
         "1.3291054377940994"
        ],
        [
         "std",
         "10.931046354331713",
         "6.067558307506999",
         "51.580350830148376",
         "35.26858489649703",
         "16.322789870993663",
         "22.860785410540732",
         "12.857751456762836",
         "14.571873168680463",
         "7.963827482762846",
         "10.582860528955008",
         "6.530231719533489",
         "4.370848137806712",
         "8.320190044475725",
         "22.25963234528164",
         "1749.3676896142592",
         "1261.4847915893429",
         "1092.8310439929153",
         "475.7082031731849",
         "576.8659938549272",
         "317.49928792651326",
         "309.3647345738612",
         "214.01350167282015",
         "165.69938254253083",
         "186.96072887141761",
         "153.4756488715063",
         "121.42949815055674",
         "715.7591474349597",
         "544.8798652253402",
         "218.3684764352158",
         "163.2157888567236",
         "134.88783225135725",
         "99.08811936181198",
         "71.80993430796461",
         "74.4116796982149",
         "53.517036495999356",
         "42.490395782290165",
         "107.91262861671838",
         "415.0391002707932",
         "453.3992307933549",
         "260.64536951760533",
         "205.73958898576186",
         "119.83287736972655",
         "119.84574890985371",
         "73.6224167399487",
         "38.373877543900555",
         "41.545272545334015",
         "54.974394533833504",
         "470.59739480880114",
         "262.370062197859",
         "209.5331545447389",
         "122.1536148947337",
         "93.55567228272191",
         "75.0492767808023",
         "69.98184916612028",
         "83.27865985738893",
         "57.80659138553109",
         "273.82718855168434",
         "311.1352981547336",
         "266.7740266899444",
         "169.07216304690834",
         "144.08303461114016",
         "59.44720388077861",
         "49.18142547550095",
         "37.67542378085705",
         "308.18739024286083",
         "222.19851916720185",
         "128.140960539947",
         "99.92094949580851",
         "116.69617640817037",
         "106.35993771142456",
         "36.79919307569832",
         "251.60675407847245",
         "229.06042146626885",
         "163.7826195038144",
         "63.28889055489916",
         "64.69154540646086",
         "26.358174537006548",
         "268.19091219933944",
         "144.15620330296287",
         "201.137522192054",
         "123.84789087353197",
         "32.09963498838554",
         "175.61888937668857",
         "122.22879912808352",
         "95.05063055805958",
         "16.16176407799327",
         "114.427904754508",
         "173.97733604430164",
         "13.34655668942922",
         "185.55824667696413",
         "22.0885763788543"
        ],
        [
         "min",
         "1922.0",
         "1.749",
         "-337.0925",
         "-301.00506",
         "-154.18358",
         "-181.95337",
         "-81.79429",
         "-188.214",
         "-72.50385",
         "-126.47904",
         "-41.63166",
         "-69.68087",
         "-94.04196",
         "0.13283",
         "8.4742",
         "21.21435",
         "17.8579",
         "12.15042",
         "5.51771",
         "19.80881",
         "6.25487",
         "6.18376",
         "15.3075",
         "6.11644",
         "5.17734",
         "-2821.43021",
         "-13390.36069",
         "-12017.08887",
         "-4324.8647",
         "-3357.2799",
         "-3115.37456",
         "-3805.66617",
         "-1516.35644",
         "-1679.11832",
         "-1590.63713",
         "-989.6458",
         "-1711.484",
         "-8448.19488",
         "-10095.72595",
         "-9803.75904",
         "-7882.82324",
         "-4673.35538",
         "-4175.41268",
         "-4975.38177",
         "-1072.95552",
         "-1021.28921",
         "-1329.95974",
         "-14861.69535",
         "-3992.68866",
         "-6642.39958",
         "-2344.5265",
         "-2270.81107",
         "-1746.47822",
         "-3188.17738",
         "-2199.78221",
         "-1694.26032",
         "-5154.02436",
         "-5111.60175",
         "-4730.5991",
         "-3756.49079",
         "-2499.95468",
         "-1900.1048",
         "-1396.70168",
         "-600.09076",
         "-10345.83328",
         "-7375.97744",
         "-3896.27522",
         "-1199.00442",
         "-2564.78812",
         "-1904.98432",
         "-974.70248",
         "-7057.71245",
         "-6953.35736",
         "-8400.6033",
         "-1812.88944",
         "-1387.50549",
         "-718.42105",
         "-9831.45386",
         "-2025.77816",
         "-8390.03545",
         "-4754.93717",
         "-437.72203",
         "-4402.37644",
         "-1810.68919",
         "-3098.35031",
         "-341.78912",
         "-3168.92457",
         "-4319.99232",
         "-236.03926",
         "-7458.37815",
         "-381.42443"
        ],
        [
         "25%",
         "1994.0",
         "39.95469",
         "-26.05952",
         "-11.46271",
         "-8.4875",
         "-20.66645",
         "-18.44099",
         "-10.7806",
         "-6.46842",
         "-2.29366",
         "-2.44485",
         "-2.65209",
         "-2.55006",
         "18.24152",
         "1315.62099",
         "1113.53642",
         "814.96965",
         "606.53862",
         "487.85478",
         "392.37258",
         "318.61634",
         "257.5417",
         "214.01613",
         "167.70609",
         "197.51167",
         "-11.64836",
         "-288.58571",
         "-250.7571",
         "-118.55596",
         "-60.1779",
         "-24.43985",
         "-38.59235",
         "-6.46517",
         "-24.77612",
         "-28.67687",
         "-16.99",
         "14.47983",
         "-223.79235",
         "-99.58246",
         "-289.71626",
         "-69.67252",
         "-53.52536",
         "-27.2209",
         "-79.16033",
         "-14.58061",
         "-20.72697",
         "-17.31675",
         "-113.66922",
         "10.52477",
         "-157.58703",
         "-24.53869",
         "-38.69772",
         "-9.10911",
         "-18.087",
         "-33.96326",
         "-28.91546",
         "-68.54624",
         "-38.78299",
         "-117.33571",
         "-44.39292",
         "-94.41255",
         "-25.21366",
         "-21.627",
         "-18.7177",
         "-262.96751",
         "-87.19625",
         "-52.08807",
         "-46.43558",
         "-19.44415",
         "-19.61272",
         "-16.13824",
         "-96.26083",
         "-90.67982",
         "-86.43539",
         "-42.89032",
         "-50.80742",
         "-15.04129",
         "-149.56415",
         "-31.72671",
         "-163.44832",
         "-27.93276",
         "-1.81265",
         "-139.55516",
         "-20.9869",
         "-4.66954",
         "-6.78159",
         "-31.58061",
         "-101.5303",
         "-2.56609",
         "-59.50927",
         "-8.82021"
        ],
        [
         "50%",
         "2002.0",
         "44.2585",
         "8.41785",
         "10.47632",
         "-0.65284",
         "-6.00777",
         "-11.18839",
         "-2.04667",
         "-1.73645",
         "3.82231",
         "1.78352",
         "-0.09795",
         "2.3137",
         "29.0951",
         "2009.30569",
         "1687.78682",
         "1240.76997",
         "817.27332",
         "739.48581",
         "541.53511",
         "444.77687",
         "349.74298",
         "292.73629",
         "242.08096",
         "264.09311",
         "27.64227",
         "-43.24145",
         "-38.93962",
         "-23.42729",
         "7.75632",
         "30.07399",
         "4.11642",
         "23.12068",
         "7.83326",
         "-9.72111",
         "3.20549",
         "56.22185",
         "-73.22361",
         "79.92945",
         "-160.49133",
         "21.14021",
         "-4.21802",
         "25.80519",
         "-45.39142",
         "3.36984",
         "-0.91722",
         "3.9564",
         "75.07401",
         "105.59494",
         "-62.76405",
         "31.51467",
         "5.13305",
         "25.75238",
         "9.00178",
         "0.59025",
         "-1.94657",
         "29.87397",
         "85.72384",
         "-16.14284",
         "27.75037",
         "-31.40787",
         "-0.29465",
         "1.68826",
         "-3.29937",
         "-115.99691",
         "8.44937",
         "4.82071",
         "2.25544",
         "18.04104",
         "22.2735",
         "-0.76668",
         "14.76764",
         "12.2705",
         "-19.809",
         "-12.36946",
         "-16.76003",
         "-2.44945",
         "-56.27032",
         "38.80083",
         "-71.40816",
         "26.89666",
         "9.17185",
         "-53.09006",
         "28.79106",
         "33.62363",
         "0.82084",
         "15.59847",
         "-21.20412",
         "3.11764",
         "7.75973",
         "0.05305"
        ],
        [
         "75%",
         "2006.0",
         "47.83389",
         "36.12401",
         "29.76482",
         "8.78754",
         "7.74187",
         "-2.38896",
         "6.50858",
         "2.91345",
         "9.96182",
         "6.14722",
         "2.43566",
         "7.36033",
         "43.42601",
         "3041.98208",
         "2489.33815",
         "1892.12035",
         "1100.85152",
         "1114.24341",
         "740.73719",
         "626.96825",
         "476.07491",
         "397.49119",
         "356.18399",
         "349.47185",
         "88.76537",
         "284.10883",
         "167.47487",
         "65.82666",
         "84.47927",
         "97.43886",
         "48.70653",
         "55.6233",
         "40.98253",
         "12.2971",
         "20.80219",
         "116.84384",
         "85.71543",
         "307.20352",
         "-60.26639",
         "115.10375",
         "46.81231",
         "75.73216",
         "-17.99076",
         "21.6561",
         "19.24949",
         "28.01531",
         "282.45494",
         "241.19096",
         "12.18207",
         "85.61963",
         "50.57045",
         "62.44115",
         "39.46577",
         "37.24249",
         "18.59871",
         "163.68378",
         "225.34399",
         "86.78299",
         "111.07205",
         "30.69086",
         "27.23479",
         "23.67263",
         "14.8477",
         "1.15985",
         "105.67688",
         "54.15834",
         "51.59072",
         "61.12981",
         "72.49298",
         "14.77141",
         "109.77882",
         "103.55649",
         "42.52475",
         "17.31392",
         "11.49353",
         "7.56376",
         "62.15316",
         "105.50163",
         "-7.33199",
         "85.6446",
         "26.27448",
         "13.47873",
         "89.66177",
         "77.7858",
         "8.47099",
         "67.79496",
         "52.38933",
         "9.96774",
         "86.35161",
         "9.67952"
        ],
        [
         "max",
         "2011.0",
         "61.97014",
         "384.06573",
         "322.85143",
         "335.77182",
         "262.06887",
         "166.23689",
         "172.40268",
         "126.74127",
         "146.29795",
         "60.34535",
         "88.02082",
         "87.91324",
         "549.76491",
         "65735.77953",
         "36816.79037",
         "31849.48676",
         "19865.93197",
         "16831.94903",
         "11901.70515",
         "9569.77809",
         "9616.6156",
         "3721.87321",
         "6737.1215",
         "9813.23367",
         "2049.60434",
         "24479.66465",
         "14505.34222",
         "3410.61556",
         "3277.63367",
         "3553.18488",
         "2347.4148",
         "1954.35548",
         "2887.84621",
         "2330.33366",
         "1813.23653",
         "2496.12262",
         "14148.99785",
         "8059.14646",
         "6065.05481",
         "8360.14557",
         "3537.50359",
         "3892.12478",
         "1202.49154",
         "1830.54468",
         "746.7075",
         "1198.62677",
         "9059.75981",
         "6967.63984",
         "6172.34505",
         "2067.20448",
         "1426.84804",
         "2460.43343",
         "2394.66234",
         "2900.52018",
         "569.13581",
         "6955.41472",
         "12700.01435",
         "13001.25902",
         "5419.27694",
         "5690.29165",
         "1811.22866",
         "973.05298",
         "812.42425",
         "11048.19818",
         "2877.73853",
         "3447.47902",
         "2055.03948",
         "4779.80027",
         "5286.82163",
         "745.50339",
         "3958.07011",
         "4741.181",
         "2124.10093",
         "1639.93044",
         "1278.33332",
         "741.02902",
         "10020.28316",
         "3423.59535",
         "5188.32729",
         "3735.02558",
         "840.97338",
         "4469.45487",
         "3210.7017",
         "1734.07969",
         "260.5449",
         "3662.06565",
         "2833.60895",
         "463.4195",
         "7393.39844",
         "677.89963"
        ]
       ],
       "shape": {
        "columns": 91,
        "rows": 8
       }
      },
      "text/html": [
       "<div>\n",
       "<style scoped>\n",
       "    .dataframe tbody tr th:only-of-type {\n",
       "        vertical-align: middle;\n",
       "    }\n",
       "\n",
       "    .dataframe tbody tr th {\n",
       "        vertical-align: top;\n",
       "    }\n",
       "\n",
       "    .dataframe thead th {\n",
       "        text-align: right;\n",
       "    }\n",
       "</style>\n",
       "<table border=\"1\" class=\"dataframe\">\n",
       "  <thead>\n",
       "    <tr style=\"text-align: right;\">\n",
       "      <th></th>\n",
       "      <th>0</th>\n",
       "      <th>1</th>\n",
       "      <th>2</th>\n",
       "      <th>3</th>\n",
       "      <th>4</th>\n",
       "      <th>5</th>\n",
       "      <th>6</th>\n",
       "      <th>7</th>\n",
       "      <th>8</th>\n",
       "      <th>9</th>\n",
       "      <th>...</th>\n",
       "      <th>81</th>\n",
       "      <th>82</th>\n",
       "      <th>83</th>\n",
       "      <th>84</th>\n",
       "      <th>85</th>\n",
       "      <th>86</th>\n",
       "      <th>87</th>\n",
       "      <th>88</th>\n",
       "      <th>89</th>\n",
       "      <th>90</th>\n",
       "    </tr>\n",
       "  </thead>\n",
       "  <tbody>\n",
       "    <tr>\n",
       "      <th>count</th>\n",
       "      <td>515345.000000</td>\n",
       "      <td>515345.000000</td>\n",
       "      <td>515345.000000</td>\n",
       "      <td>515345.000000</td>\n",
       "      <td>515345.000000</td>\n",
       "      <td>515345.000000</td>\n",
       "      <td>515345.000000</td>\n",
       "      <td>515345.000000</td>\n",
       "      <td>515345.000000</td>\n",
       "      <td>515345.000000</td>\n",
       "      <td>...</td>\n",
       "      <td>515345.000000</td>\n",
       "      <td>515345.000000</td>\n",
       "      <td>515345.000000</td>\n",
       "      <td>515345.000000</td>\n",
       "      <td>515345.000000</td>\n",
       "      <td>515345.000000</td>\n",
       "      <td>515345.000000</td>\n",
       "      <td>515345.000000</td>\n",
       "      <td>515345.000000</td>\n",
       "      <td>515345.000000</td>\n",
       "    </tr>\n",
       "    <tr>\n",
       "      <th>mean</th>\n",
       "      <td>1998.397082</td>\n",
       "      <td>43.387126</td>\n",
       "      <td>1.289554</td>\n",
       "      <td>8.658347</td>\n",
       "      <td>1.164124</td>\n",
       "      <td>-6.553601</td>\n",
       "      <td>-9.521975</td>\n",
       "      <td>-2.391089</td>\n",
       "      <td>-1.793236</td>\n",
       "      <td>3.727876</td>\n",
       "      <td>...</td>\n",
       "      <td>15.755406</td>\n",
       "      <td>-73.461500</td>\n",
       "      <td>41.542422</td>\n",
       "      <td>37.934119</td>\n",
       "      <td>0.315751</td>\n",
       "      <td>17.669213</td>\n",
       "      <td>-26.315336</td>\n",
       "      <td>4.458641</td>\n",
       "      <td>20.035136</td>\n",
       "      <td>1.329105</td>\n",
       "    </tr>\n",
       "    <tr>\n",
       "      <th>std</th>\n",
       "      <td>10.931046</td>\n",
       "      <td>6.067558</td>\n",
       "      <td>51.580351</td>\n",
       "      <td>35.268585</td>\n",
       "      <td>16.322790</td>\n",
       "      <td>22.860785</td>\n",
       "      <td>12.857751</td>\n",
       "      <td>14.571873</td>\n",
       "      <td>7.963827</td>\n",
       "      <td>10.582861</td>\n",
       "      <td>...</td>\n",
       "      <td>32.099635</td>\n",
       "      <td>175.618889</td>\n",
       "      <td>122.228799</td>\n",
       "      <td>95.050631</td>\n",
       "      <td>16.161764</td>\n",
       "      <td>114.427905</td>\n",
       "      <td>173.977336</td>\n",
       "      <td>13.346557</td>\n",
       "      <td>185.558247</td>\n",
       "      <td>22.088576</td>\n",
       "    </tr>\n",
       "    <tr>\n",
       "      <th>min</th>\n",
       "      <td>1922.000000</td>\n",
       "      <td>1.749000</td>\n",
       "      <td>-337.092500</td>\n",
       "      <td>-301.005060</td>\n",
       "      <td>-154.183580</td>\n",
       "      <td>-181.953370</td>\n",
       "      <td>-81.794290</td>\n",
       "      <td>-188.214000</td>\n",
       "      <td>-72.503850</td>\n",
       "      <td>-126.479040</td>\n",
       "      <td>...</td>\n",
       "      <td>-437.722030</td>\n",
       "      <td>-4402.376440</td>\n",
       "      <td>-1810.689190</td>\n",
       "      <td>-3098.350310</td>\n",
       "      <td>-341.789120</td>\n",
       "      <td>-3168.924570</td>\n",
       "      <td>-4319.992320</td>\n",
       "      <td>-236.039260</td>\n",
       "      <td>-7458.378150</td>\n",
       "      <td>-381.424430</td>\n",
       "    </tr>\n",
       "    <tr>\n",
       "      <th>25%</th>\n",
       "      <td>1994.000000</td>\n",
       "      <td>39.954690</td>\n",
       "      <td>-26.059520</td>\n",
       "      <td>-11.462710</td>\n",
       "      <td>-8.487500</td>\n",
       "      <td>-20.666450</td>\n",
       "      <td>-18.440990</td>\n",
       "      <td>-10.780600</td>\n",
       "      <td>-6.468420</td>\n",
       "      <td>-2.293660</td>\n",
       "      <td>...</td>\n",
       "      <td>-1.812650</td>\n",
       "      <td>-139.555160</td>\n",
       "      <td>-20.986900</td>\n",
       "      <td>-4.669540</td>\n",
       "      <td>-6.781590</td>\n",
       "      <td>-31.580610</td>\n",
       "      <td>-101.530300</td>\n",
       "      <td>-2.566090</td>\n",
       "      <td>-59.509270</td>\n",
       "      <td>-8.820210</td>\n",
       "    </tr>\n",
       "    <tr>\n",
       "      <th>50%</th>\n",
       "      <td>2002.000000</td>\n",
       "      <td>44.258500</td>\n",
       "      <td>8.417850</td>\n",
       "      <td>10.476320</td>\n",
       "      <td>-0.652840</td>\n",
       "      <td>-6.007770</td>\n",
       "      <td>-11.188390</td>\n",
       "      <td>-2.046670</td>\n",
       "      <td>-1.736450</td>\n",
       "      <td>3.822310</td>\n",
       "      <td>...</td>\n",
       "      <td>9.171850</td>\n",
       "      <td>-53.090060</td>\n",
       "      <td>28.791060</td>\n",
       "      <td>33.623630</td>\n",
       "      <td>0.820840</td>\n",
       "      <td>15.598470</td>\n",
       "      <td>-21.204120</td>\n",
       "      <td>3.117640</td>\n",
       "      <td>7.759730</td>\n",
       "      <td>0.053050</td>\n",
       "    </tr>\n",
       "    <tr>\n",
       "      <th>75%</th>\n",
       "      <td>2006.000000</td>\n",
       "      <td>47.833890</td>\n",
       "      <td>36.124010</td>\n",
       "      <td>29.764820</td>\n",
       "      <td>8.787540</td>\n",
       "      <td>7.741870</td>\n",
       "      <td>-2.388960</td>\n",
       "      <td>6.508580</td>\n",
       "      <td>2.913450</td>\n",
       "      <td>9.961820</td>\n",
       "      <td>...</td>\n",
       "      <td>26.274480</td>\n",
       "      <td>13.478730</td>\n",
       "      <td>89.661770</td>\n",
       "      <td>77.785800</td>\n",
       "      <td>8.470990</td>\n",
       "      <td>67.794960</td>\n",
       "      <td>52.389330</td>\n",
       "      <td>9.967740</td>\n",
       "      <td>86.351610</td>\n",
       "      <td>9.679520</td>\n",
       "    </tr>\n",
       "    <tr>\n",
       "      <th>max</th>\n",
       "      <td>2011.000000</td>\n",
       "      <td>61.970140</td>\n",
       "      <td>384.065730</td>\n",
       "      <td>322.851430</td>\n",
       "      <td>335.771820</td>\n",
       "      <td>262.068870</td>\n",
       "      <td>166.236890</td>\n",
       "      <td>172.402680</td>\n",
       "      <td>126.741270</td>\n",
       "      <td>146.297950</td>\n",
       "      <td>...</td>\n",
       "      <td>840.973380</td>\n",
       "      <td>4469.454870</td>\n",
       "      <td>3210.701700</td>\n",
       "      <td>1734.079690</td>\n",
       "      <td>260.544900</td>\n",
       "      <td>3662.065650</td>\n",
       "      <td>2833.608950</td>\n",
       "      <td>463.419500</td>\n",
       "      <td>7393.398440</td>\n",
       "      <td>677.899630</td>\n",
       "    </tr>\n",
       "  </tbody>\n",
       "</table>\n",
       "<p>8 rows × 91 columns</p>\n",
       "</div>"
      ],
      "text/plain": [
       "                  0              1              2              3   \\\n",
       "count  515345.000000  515345.000000  515345.000000  515345.000000   \n",
       "mean     1998.397082      43.387126       1.289554       8.658347   \n",
       "std        10.931046       6.067558      51.580351      35.268585   \n",
       "min      1922.000000       1.749000    -337.092500    -301.005060   \n",
       "25%      1994.000000      39.954690     -26.059520     -11.462710   \n",
       "50%      2002.000000      44.258500       8.417850      10.476320   \n",
       "75%      2006.000000      47.833890      36.124010      29.764820   \n",
       "max      2011.000000      61.970140     384.065730     322.851430   \n",
       "\n",
       "                  4              5              6              7   \\\n",
       "count  515345.000000  515345.000000  515345.000000  515345.000000   \n",
       "mean        1.164124      -6.553601      -9.521975      -2.391089   \n",
       "std        16.322790      22.860785      12.857751      14.571873   \n",
       "min      -154.183580    -181.953370     -81.794290    -188.214000   \n",
       "25%        -8.487500     -20.666450     -18.440990     -10.780600   \n",
       "50%        -0.652840      -6.007770     -11.188390      -2.046670   \n",
       "75%         8.787540       7.741870      -2.388960       6.508580   \n",
       "max       335.771820     262.068870     166.236890     172.402680   \n",
       "\n",
       "                  8              9   ...             81             82  \\\n",
       "count  515345.000000  515345.000000  ...  515345.000000  515345.000000   \n",
       "mean       -1.793236       3.727876  ...      15.755406     -73.461500   \n",
       "std         7.963827      10.582861  ...      32.099635     175.618889   \n",
       "min       -72.503850    -126.479040  ...    -437.722030   -4402.376440   \n",
       "25%        -6.468420      -2.293660  ...      -1.812650    -139.555160   \n",
       "50%        -1.736450       3.822310  ...       9.171850     -53.090060   \n",
       "75%         2.913450       9.961820  ...      26.274480      13.478730   \n",
       "max       126.741270     146.297950  ...     840.973380    4469.454870   \n",
       "\n",
       "                  83             84             85             86  \\\n",
       "count  515345.000000  515345.000000  515345.000000  515345.000000   \n",
       "mean       41.542422      37.934119       0.315751      17.669213   \n",
       "std       122.228799      95.050631      16.161764     114.427905   \n",
       "min     -1810.689190   -3098.350310    -341.789120   -3168.924570   \n",
       "25%       -20.986900      -4.669540      -6.781590     -31.580610   \n",
       "50%        28.791060      33.623630       0.820840      15.598470   \n",
       "75%        89.661770      77.785800       8.470990      67.794960   \n",
       "max      3210.701700    1734.079690     260.544900    3662.065650   \n",
       "\n",
       "                  87             88             89             90  \n",
       "count  515345.000000  515345.000000  515345.000000  515345.000000  \n",
       "mean      -26.315336       4.458641      20.035136       1.329105  \n",
       "std       173.977336      13.346557     185.558247      22.088576  \n",
       "min     -4319.992320    -236.039260   -7458.378150    -381.424430  \n",
       "25%      -101.530300      -2.566090     -59.509270      -8.820210  \n",
       "50%       -21.204120       3.117640       7.759730       0.053050  \n",
       "75%        52.389330       9.967740      86.351610       9.679520  \n",
       "max      2833.608950     463.419500    7393.398440     677.899630  \n",
       "\n",
       "[8 rows x 91 columns]"
      ]
     },
     "execution_count": 4,
     "metadata": {},
     "output_type": "execute_result"
    }
   ],
   "source": [
    "df.describe()"
   ]
  },
  {
   "cell_type": "markdown",
   "id": "broad-writer",
   "metadata": {
    "id": "broad-writer"
   },
   "source": [
    "Целевая переменная, год выпуска песни, записана в первом столбце. Посмотрим на ее распределение."
   ]
  },
  {
   "cell_type": "code",
   "execution_count": 5,
   "id": "exposed-small",
   "metadata": {
    "id": "exposed-small",
    "outputId": "119f04af-94fd-468e-cb9f-19745336c0d1"
   },
   "outputs": [
    {
     "data": {
      "image/png": "[encoded data removed]",
      "text/plain": [
       "<Figure size 640x480 with 1 Axes>"
      ]
     },
     "metadata": {},
     "output_type": "display_data"
    },
    {
     "name": "stdout",
     "output_type": "stream",
     "text": [
      "Range: 1922 - 2011\n",
      "Unique values: 89\n"
     ]
    }
   ],
   "source": [
    "plt.hist(df.iloc[:, 0], bins=20)\n",
    "plt.xlabel(\"year\")\n",
    "plt.ylabel(\"count\")\n",
    "plt.show()\n",
    "\n",
    "print(f\"Range: {df.iloc[:, 0].min()} - {df.iloc[:, 0].max()}\")\n",
    "print(f\"Unique values: {np.unique(df.iloc[:, 0]).size}\")"
   ]
  },
  {
   "cell_type": "markdown",
   "id": "noted-rebecca",
   "metadata": {
    "id": "noted-rebecca"
   },
   "source": [
    "Разобьем данные на обучение и тест (не меняйте здесь ничего, чтобы сплит был одинаковым у всех)."
   ]
  },
  {
   "cell_type": "code",
   "execution_count": 6,
   "id": "presidential-wisconsin",
   "metadata": {
    "colab": {
     "base_uri": "https://localhost:8080/"
    },
    "id": "presidential-wisconsin",
    "outputId": "b1f5b6c1-35e6-4cc0-ae4e-df4a36acb305"
   },
   "outputs": [
    {
     "data": {
      "text/plain": [
       "((386508, 90), (128837, 90))"
      ]
     },
     "execution_count": 6,
     "metadata": {},
     "output_type": "execute_result"
    }
   ],
   "source": [
    "X = df.iloc[:, 1:].values\n",
    "y = df.iloc[:, 0].values\n",
    "\n",
    "train_size = int(0.75 * X.shape[0])\n",
    "X_train = X[:train_size, :]\n",
    "y_train = y[:train_size]\n",
    "X_test = X[train_size:, :]\n",
    "y_test = y[train_size:]\n",
    "X_train.shape, X_test.shape"
   ]
  },
  {
   "cell_type": "markdown",
   "id": "adaptive-quantity",
   "metadata": {
    "id": "adaptive-quantity"
   },
   "source": [
    "**Задание 0 (0 баллов, но при невыполнении максимальная оценка за всю работу &mdash; 0 баллов).** Мы будем использовать MSE как метрику качества. Прежде чем обучать нейронные сети, нам нужно проверить несколько простых бейзлайнов, чтобы было с чем сравнить более сложные алгоритмы. Для этого бучите `Ridge` регрессию из `sklearn`. Кроме того, посчитайте качество при наилучшем константном прогнозе (также пропишите текстом, какая константа будет лучшей для MSE)."
   ]
  },
  {
   "cell_type": "code",
   "execution_count": 7,
   "id": "mexican-fireplace",
   "metadata": {
    "colab": {
     "base_uri": "https://localhost:8080/"
    },
    "id": "mexican-fireplace",
    "outputId": "66889bef-cd89-4440-c50c-1db830d83af0"
   },
   "outputs": [
    {
     "name": "stdout",
     "output_type": "stream",
     "text": [
      "Fitting 5 folds for each of 10 candidates, totalling 50 fits\n",
      "Best alpha: 3866.667\n"
     ]
    }
   ],
   "source": [
    "baseline_ridge_param_grid = {\n",
    "    \"alpha\": np.linspace(3800, 4100, 10)\n",
    "}\n",
    "\n",
    "baseline_ridge = Ridge()\n",
    "\n",
    "baseline_ridge_gscv = GridSearchCV(\n",
    "    estimator=baseline_ridge,\n",
    "    param_grid=baseline_ridge_param_grid,\n",
    "    scoring=\"neg_mean_squared_error\",\n",
    "    n_jobs=-1,\n",
    "    cv=5,\n",
    "    verbose=3\n",
    ")\n",
    "\n",
    "baseline_ridge_gscv = baseline_ridge_gscv.fit(X_train, y_train)\n",
    "print(f\"Best alpha: {baseline_ridge_gscv.best_params_['alpha']:.3f}\")"
   ]
  },
  {
   "cell_type": "code",
   "execution_count": 8,
   "id": "c7ea56a3",
   "metadata": {},
   "outputs": [
    {
     "name": "stdout",
     "output_type": "stream",
     "text": [
      "MSE (Baseline Ridge): 89.750\n"
     ]
    }
   ],
   "source": [
    "baseline_ridge_mse = mean_squared_error(baseline_ridge_gscv.predict(X_test), y_test)\n",
    "print(f\"MSE (Baseline Ridge): {baseline_ridge_mse:.3f}\")"
   ]
  },
  {
   "cell_type": "code",
   "execution_count": 9,
   "id": "0abd55da",
   "metadata": {},
   "outputs": [
    {
     "name": "stdout",
     "output_type": "stream",
     "text": [
      "MSE (Naive): 117.626\n"
     ]
    }
   ],
   "source": [
    "# Если мы считаем метрику MSE, то лучший константный прогноз - среднее\n",
    "\n",
    "naive_mse = mean_squared_error(y_train.mean().repeat(y_test.size), y_test)\n",
    "print(f\"MSE (Naive): {naive_mse:.3f}\")"
   ]
  },
  {
   "cell_type": "code",
   "execution_count": 10,
   "id": "462459ae",
   "metadata": {},
   "outputs": [
    {
     "name": "stdout",
     "output_type": "stream",
     "text": [
      "Лучшая константа (среднее значение таргета по train): 1998.375\n"
     ]
    }
   ],
   "source": [
    "print(f\"Лучшая константа (среднее значение таргета по train): {y_train.mean():.3f}\")"
   ]
  },
  {
   "cell_type": "markdown",
   "id": "0f4c6b65",
   "metadata": {},
   "source": [
    "> **Ответ:** 1998.375"
   ]
  },
  {
   "cell_type": "markdown",
   "id": "suspected-arbitration",
   "metadata": {
    "id": "suspected-arbitration"
   },
   "source": [
    "Теперь приступим к экспериментам с нейросетями. Для начала отделим от данных валидацию:"
   ]
  },
  {
   "cell_type": "code",
   "execution_count": 11,
   "id": "offensive-publication",
   "metadata": {
    "colab": {
     "base_uri": "https://localhost:8080/"
    },
    "id": "offensive-publication",
    "outputId": "168b4b3c-4f75-4122-9b47-bc993b4a5f2f"
   },
   "outputs": [
    {
     "data": {
      "text/plain": [
       "((289881, 90), (96627, 90))"
      ]
     },
     "execution_count": 11,
     "metadata": {},
     "output_type": "execute_result"
    }
   ],
   "source": [
    "X_train, X_val, y_train, y_val = train_test_split(\n",
    "    X_train, y_train, test_size=0.25, random_state=0xE2E4\n",
    ")\n",
    "X_train.shape, X_val.shape"
   ]
  },
  {
   "cell_type": "markdown",
   "id": "modern-platform",
   "metadata": {
    "id": "modern-platform"
   },
   "source": [
    "## Глава I. Заводим нейронную сеть (5 баллов)\n",
    "\n",
    "**Задание 1.1 (0.5 баллов).** Заполните пропуски в функции `train_and_validate`. Она поможет нам запускать эксперименты. Можете также реализовать поддержку обучения на GPU, чтобы эксперименты считались быстрее. Бесплатно воспользоваться GPU можно на сервисах **Google Colab** и **Kaggle**."
   ]
  },
  {
   "cell_type": "code",
   "execution_count": 12,
   "id": "cooperative-bedroom",
   "metadata": {
    "id": "cooperative-bedroom"
   },
   "outputs": [],
   "source": [
    "def plot_losses(train_losses, train_metrics, val_losses, val_metrics):\n",
    "    \"\"\"\n",
    "    Plot losses and metrics while training\n",
    "      - train_losses: sequence of train losses\n",
    "      - train_metrics: sequence of train MSE values\n",
    "      - val_losses: sequence of validation losses\n",
    "      - val_metrics: sequence of validation MSE values\n",
    "    \"\"\"\n",
    "    clear_output()\n",
    "    fig, axs = plt.subplots(1, 2, figsize=(15, 5))\n",
    "    axs[0].plot(range(1, len(train_losses) + 1), train_losses, label=\"train\")\n",
    "    axs[0].plot(range(1, len(val_losses) + 1), val_losses, label=\"val\")\n",
    "    axs[1].plot(range(1, len(train_metrics) + 1), train_metrics, label=\"train\")\n",
    "    axs[1].plot(range(1, len(val_metrics) + 1), val_metrics, label=\"val\")\n",
    "\n",
    "    if max(train_losses) / min(train_losses) > 100:\n",
    "        axs[0].set_yscale(\"log\")\n",
    "\n",
    "    if max(train_metrics) / min(train_metrics) > 100:\n",
    "        axs[1].set_yscale(\"log\")    # Тут было axs[0]\n",
    "\n",
    "    for ax in axs:\n",
    "        ax.set_xlabel(\"epoch\")\n",
    "        ax.legend()\n",
    "\n",
    "    axs[0].set_ylabel(\"loss\")\n",
    "    axs[1].set_ylabel(\"MSE\")\n",
    "    plt.show()\n",
    "    plt.close(fig)"
   ]
  },
  {
   "cell_type": "code",
   "execution_count": 13,
   "id": "c8fae6d4",
   "metadata": {},
   "outputs": [],
   "source": [
    "def train_and_validate(\n",
    "    model: nn.Module,\n",
    "    optimizer: torch.optim.Optimizer,\n",
    "    criterion,\n",
    "    metric,\n",
    "    train_loader,\n",
    "    val_loader,\n",
    "    num_epochs,\n",
    "    verbose=True,\n",
    "):\n",
    "    \"\"\"\n",
    "    Train and validate neural network\n",
    "      - model: neural network to train\n",
    "      - optimizer: optimizer chained to a model\n",
    "      - criterion: loss function class\n",
    "      - metric: function to measure MSE taking neural networks predictions\n",
    "                 and ground truth labels\n",
    "      - train_loader: DataLoader with train set\n",
    "      - val_loader: DataLoader with validation set\n",
    "      - num_epochs: number of epochs to train\n",
    "      - verbose: whether to plot metrics during training\n",
    "    Returns:\n",
    "      - train_mse: training MSE over the last epoch\n",
    "      - val_mse: validation MSE after the last epoch\n",
    "    \"\"\"\n",
    "    train_losses, val_losses = [], []\n",
    "    train_metrics, val_metrics = [], []\n",
    "\n",
    "    model.to(device)\n",
    "\n",
    "    for epoch in range(1, num_epochs + 1):\n",
    "        model.train()\n",
    "        running_loss, running_metric = 0, 0\n",
    "        pbar = (\n",
    "            tqdm(train_loader, desc=f\"Training {epoch}/{num_epochs}\")\n",
    "            if verbose\n",
    "            else train_loader\n",
    "        )\n",
    "\n",
    "        for i, (X_batch, y_batch) in enumerate(pbar, 1):\n",
    "            X_batch = X_batch.to(device)\n",
    "            y_batch = y_batch.to(device)\n",
    "\n",
    "            predictions = model(X_batch)\n",
    "            loss = criterion(predictions, y_batch)\n",
    "            loss.backward()\n",
    "            optimizer.step()\n",
    "            optimizer.zero_grad()\n",
    "            \n",
    "            with torch.no_grad():\n",
    "                metric_value = metric(predictions, y_batch)\n",
    "                if isinstance(metric_value, torch.Tensor):\n",
    "                    metric_value = metric_value.item()                \n",
    "                running_loss += loss.item() * X_batch.shape[0]\n",
    "                running_metric += metric_value * X_batch.shape[0]\n",
    "\n",
    "            if verbose and i % 100 == 0:\n",
    "                pbar.set_postfix({\"loss\": loss.item(), \"MSE\": metric_value})\n",
    "\n",
    "        train_losses += [running_loss / len(train_loader.dataset)]\n",
    "        train_metrics += [running_metric / len(train_loader.dataset)]\n",
    "\n",
    "        model.eval()\n",
    "        running_loss, running_metric = 0, 0\n",
    "        pbar = (\n",
    "            tqdm(val_loader, desc=f\"Validating {epoch}/{num_epochs}\")\n",
    "            if verbose\n",
    "            else val_loader\n",
    "        )\n",
    "\n",
    "        for i, (X_batch, y_batch) in enumerate(pbar, 1):\n",
    "            X_batch = X_batch.to(device)\n",
    "            y_batch = y_batch.to(device)\n",
    "            \n",
    "            with torch.no_grad():\n",
    "                predictions = model(X_batch)\n",
    "                loss = criterion(predictions, y_batch)\n",
    "                metric_value = metric(predictions, y_batch)\n",
    "                if isinstance(metric_value, torch.Tensor):\n",
    "                    metric_value = metric_value.item()\n",
    "                running_loss += loss.item() * X_batch.shape[0]\n",
    "                running_metric += metric_value * X_batch.shape[0]\n",
    "\n",
    "            if verbose and i % 100 == 0:\n",
    "                pbar.set_postfix({\"loss\": loss.item(), \"MSE\": metric_value})\n",
    "\n",
    "        val_losses += [running_loss / len(val_loader.dataset)]\n",
    "        val_metrics += [running_metric / len(val_loader.dataset)]\n",
    "\n",
    "        if verbose:\n",
    "            plot_losses(train_losses, train_metrics, val_losses, val_metrics)\n",
    "\n",
    "    if verbose:\n",
    "        print(f\"Validation MSE: {val_metrics[-1]:.3f}\")\n",
    "\n",
    "    return train_metrics[-1], val_metrics[-1]"
   ]
  },
  {
   "cell_type": "markdown",
   "id": "adjacent-grace",
   "metadata": {
    "id": "adjacent-grace"
   },
   "source": [
    "**Задание 1.2 (0.75 балла).** Попробуем обучить нашу первую нейронную сеть. Здесь целевая переменная дискретная &mdash; это год выпуска песни. Поэтому будем учить сеть на классификацию c помощью [кросс-энтропийной функции потерь](https://pytorch.org/docs/stable/generated/torch.nn.CrossEntropyLoss.html).\n",
    "\n",
    "- В качестве архитектуры сети возьмите два линейных слоя с активацией ReLU между ними c числом скрытых нейронов, равным 128.\n",
    "- Используйте SGD с `lr=1e-2`.\n",
    "- Возьмите размер мини-батча около 32-64, примерно 3-4 эпох обучения должно быть достаточно.\n",
    "- Скорее всего вам пригодится `torch.utils.data.TensorDataset`. Когда будете конвертировать numpy-массивы в torch-тензоры, используйте тип `torch.float32`.\n",
    "- Также преобразуйте целевую переменную так, чтобы ее значения принимали значения от $0$ до $C-1$, где $C$ &mdash; число классов (лучше передайте преобразованное значение в TensorDataset, исходное нам еще пригодится)\n",
    "- В качестве параметра `metric` в `train_and_validate` передайте lambda-выражение, которое считает MSE по выходу нейронной сети и целевой переменной. В случае классификации предсказывается класс с наибольшей вероятностью (или, что то же самое, с наибольшим значением **логита**$^1$).\n",
    "\n",
    "$^1$ **Логит** &mdash; выход последнего линейного слоя, может принимать любые вещественные значения. Если применить Softmax к логитам, то получатся вероятности распределения классов."
   ]
  },
  {
   "cell_type": "code",
   "execution_count": 14,
   "id": "b6b115ab",
   "metadata": {},
   "outputs": [],
   "source": [
    "from sklearn.preprocessing import LabelEncoder\n",
    "\n",
    "LE = LabelEncoder()\n",
    "\n",
    "y_train_coded = LE.fit_transform(y_train)\n",
    "y_val_coded = LE.transform(y_val)\n",
    "y_test_coded = LE.transform(y_test)"
   ]
  },
  {
   "cell_type": "code",
   "execution_count": 15,
   "id": "manufactured-beverage",
   "metadata": {
    "id": "manufactured-beverage"
   },
   "outputs": [
    {
     "data": {
      "image/png": "[encoded data removed]",
      "text/plain": [
       "<Figure size 1500x500 with 2 Axes>"
      ]
     },
     "metadata": {},
     "output_type": "display_data"
    },
    {
     "name": "stdout",
     "output_type": "stream",
     "text": [
      "Validation MSE: 195.115\n"
     ]
    },
    {
     "data": {
      "text/plain": [
       "(194.28204332101436, 195.1154853197592)"
      ]
     },
     "execution_count": 15,
     "metadata": {},
     "output_type": "execute_result"
    }
   ],
   "source": [
    "class InitialModel(nn.Module):\n",
    "    def __init__(self):\n",
    "        super().__init__()\n",
    "\n",
    "        self.l1 = nn.LazyLinear(out_features=128)\n",
    "        self.af1 = nn.ReLU()\n",
    "        self.l2 = nn.LazyLinear(out_features=89)\n",
    "\n",
    "    def forward(self, x: torch.Tensor):\n",
    "        pred = self.l1(x)\n",
    "        pred = self.af1(pred)\n",
    "        pred = self.l2(pred)\n",
    "\n",
    "        return pred\n",
    "\n",
    "model = InitialModel()\n",
    "optimizer = torch.optim.SGD(model.parameters(), lr=1e-2, fused=True)\n",
    "\n",
    "train_dataloader = DataLoader(TensorDataset(\n",
    "    torch.tensor(X_train, dtype=torch.float32),\n",
    "    torch.tensor(y_train_coded, dtype=torch.long),\n",
    "), batch_size=32)\n",
    "\n",
    "val_dataloader = DataLoader(TensorDataset(\n",
    "    torch.tensor(X_val, dtype=torch.float32),\n",
    "    torch.tensor(y_val_coded, dtype=torch.long),\n",
    "), batch_size=32)\n",
    "\n",
    "\n",
    "train_and_validate(\n",
    "    model=model,\n",
    "    optimizer=optimizer,\n",
    "    criterion=nn.CrossEntropyLoss(),\n",
    "    metric=lambda x, y: torch.mean(torch.square(torch.argmax(x, dim=1).float() - y.float())),\n",
    "    train_loader=train_dataloader,\n",
    "    val_loader=val_dataloader,\n",
    "    num_epochs=4\n",
    ")"
   ]
  },
  {
   "cell_type": "code",
   "execution_count": 16,
   "id": "1687ff58",
   "metadata": {},
   "outputs": [],
   "source": [
    "def get_predictions(model, test_loader):\n",
    "    model.eval()\n",
    "    all_predictions = []\n",
    "    all_targets = []\n",
    "    \n",
    "    with torch.no_grad():\n",
    "        for X_batch, y_batch in test_loader:\n",
    "            X_batch = X_batch.to(device)\n",
    "            y_batch = y_batch.to(device)\n",
    "            \n",
    "            outputs = model(X_batch)\n",
    "            _, predicted = torch.max(outputs.data, 1)\n",
    "            \n",
    "            all_predictions.extend(predicted.cpu().numpy())\n",
    "            all_targets.extend(y_batch.cpu().numpy())\n",
    "    \n",
    "    return np.array(all_predictions), np.array(all_targets)\n",
    "\n",
    "test_dataloader = DataLoader(TensorDataset(\n",
    "    torch.tensor(X_test, dtype=torch.float32),\n",
    "    torch.tensor(y_test_coded, dtype=torch.long)\n",
    "), batch_size=32)\n",
    "\n",
    "predictions, true_labels = get_predictions(model, test_dataloader)"
   ]
  },
  {
   "cell_type": "code",
   "execution_count": 17,
   "id": "a3cb375a",
   "metadata": {},
   "outputs": [
    {
     "name": "stdout",
     "output_type": "stream",
     "text": [
      "Ошибка на test: 190.512\n"
     ]
    }
   ],
   "source": [
    "print(f\"Ошибка на test: {mean_squared_error(predictions, true_labels):.3f}\")"
   ]
  },
  {
   "cell_type": "code",
   "execution_count": 18,
   "id": "6a82db05",
   "metadata": {},
   "outputs": [
    {
     "name": "stdout",
     "output_type": "stream",
     "text": [
      "Уникальных годов среди pred: 1, и real: 84\n"
     ]
    }
   ],
   "source": [
    "print(f\"Уникальных годов среди pred: {np.unique(predictions).size}, и real: {np.unique(true_labels).size}\")"
   ]
  },
  {
   "cell_type": "markdown",
   "id": "postal-kingdom",
   "metadata": {
    "id": "postal-kingdom"
   },
   "source": [
    "**Задание 1.3 (0.5 балла).** Прокомментируйте ваши наблюдения. Удалось ли побить бейзлайн? Как вы думаете, хорошая ли идея учить классификатор для этой задачи? Почему?\n",
    "\n",
    "> **Ответ:** Baseline побить не удалось, ошибка на тестовой выборке больше, чем была. Классификатор для данной задачи не подходит: слишком много различных значений, лучше рассматривать это как задачу регрессии."
   ]
  },
  {
   "cell_type": "markdown",
   "id": "gorgeous-italy",
   "metadata": {
    "id": "gorgeous-italy"
   },
   "source": [
    "**Задание 1.4 (0.75 балла).** Теперь попробуем решать задачу как регрессию. Обучите нейронную сеть на [MSE](https://pytorch.org/docs/stable/generated/torch.nn.MSELoss.html).\n",
    "\n",
    "- Используйте такие же гиперпараметры обучения.\n",
    "- Когда передаете целевую переменную в TensorDataset, сделайте reshape в (-1, 1).\n",
    "- Не забудьте изменить lambda-выражение, которые вы передаете в `train_and_validate`.\n",
    "- Если что-то пойдет не так, можете попробовать меньшие значения `lr`."
   ]
  },
  {
   "cell_type": "code",
   "execution_count": 19,
   "id": "contrary-justice",
   "metadata": {
    "id": "contrary-justice"
   },
   "outputs": [
    {
     "data": {
      "image/png": "[encoded data removed]",
      "text/plain": [
       "<Figure size 1500x500 with 2 Axes>"
      ]
     },
     "metadata": {},
     "output_type": "display_data"
    },
    {
     "name": "stdout",
     "output_type": "stream",
     "text": [
      "Validation MSE: 3133839.530\n"
     ]
    },
    {
     "data": {
      "text/plain": [
       "(3238280.2264946653, 3133839.530113219)"
      ]
     },
     "execution_count": 19,
     "metadata": {},
     "output_type": "execute_result"
    }
   ],
   "source": [
    "class InitialModel_MSE(nn.Module):\n",
    "    def __init__(self):\n",
    "        super().__init__()\n",
    "\n",
    "        self.l1 = nn.LazyLinear(out_features=128)\n",
    "        self.af1 = nn.ReLU()\n",
    "        self.l2 = nn.LazyLinear(out_features=1)\n",
    "\n",
    "    def forward(self, x: torch.Tensor):\n",
    "        pred = self.l1(x)\n",
    "        pred = self.af1(pred)\n",
    "        pred = self.l2(pred)\n",
    "\n",
    "        return pred\n",
    "\n",
    "model = InitialModel_MSE()\n",
    "optimizer = torch.optim.SGD(model.parameters(), lr=1.8e-6, fused=True)\n",
    "\n",
    "train_dataloader = DataLoader(TensorDataset(\n",
    "    torch.tensor(X_train, dtype=torch.float32),\n",
    "    torch.tensor(y_train, dtype=torch.float32).reshape(-1, 1),\n",
    "), batch_size=32)\n",
    "\n",
    "val_dataloader = DataLoader(TensorDataset(\n",
    "    torch.tensor(X_val, dtype=torch.float32),\n",
    "    torch.tensor(y_val, dtype=torch.float32).reshape(-1, 1),\n",
    "), batch_size=32)\n",
    "\n",
    "\n",
    "train_and_validate(\n",
    "    model=model,\n",
    "    optimizer=optimizer,\n",
    "    criterion=nn.MSELoss(),\n",
    "    metric=nn.MSELoss(),\n",
    "    train_loader=train_dataloader,\n",
    "    val_loader=val_dataloader,\n",
    "    num_epochs=4\n",
    ")"
   ]
  },
  {
   "cell_type": "markdown",
   "id": "nonprofit-passenger",
   "metadata": {
    "id": "nonprofit-passenger"
   },
   "source": [
    "**Задание 1.5 (0.5 балла).** Получилось ли у вас стабилизировать обучение? Помогли ли меньшие значения `lr`? Стало ли лучше от замены классификации на регрессию? Как вы думаете, почему так происходит? В качестве подсказки можете посмотреть на распределение целевой переменной и магнитуду значений признаков.\n",
    "\n",
    "> **Ответ:** Стабилизировать обучение не получилось, хотя малые значения lr помогли избежать `nan` в MSE. Поскольку мы используем обычный SGD, если масштабы признаков сильно отличаются, то процесс может не сойтись - это в нашем случае и происходит. Кроме того, градиент получается довольно большим и все разваливается."
   ]
  },
  {
   "cell_type": "markdown",
   "id": "tested-cleaners",
   "metadata": {
    "id": "tested-cleaners"
   },
   "source": [
    "**Задание 1.6 (0.75 балла).** Начнем с того, что попробуем отнормировать целевую переменную. Для этого воспользуемся min-max нормализацией, чтобы целевая переменная принимала значения от 0 до 1. Реализуйте функции `normalize` и `denormalize`, которые, соответственно, нормируют целевую переменную и применяют обратное преобразование. Минимум и максимум оцените по обучающей выборке (то есть эти константы должны быть фиксированными и не зависеть от передаваемой выборки)."
   ]
  },
  {
   "cell_type": "code",
   "execution_count": 20,
   "id": "downtown-stake",
   "metadata": {
    "id": "downtown-stake"
   },
   "outputs": [],
   "source": [
    "min_train = torch.tensor(y_train.min(), dtype=torch.float32, device=device)\n",
    "max_train = torch.tensor(y_train.max(), dtype=torch.float32, device=device)\n",
    "\n",
    "def normalize(sample: torch.Tensor) -> torch.Tensor:\n",
    "    \"\"\"\n",
    "    Min-max normalization to convert sample to [0, 1] range\n",
    "    \"\"\"\n",
    "    return (sample - min_train) / (max_train - min_train)\n",
    "\n",
    "\n",
    "def denormalize(sample: torch.Tensor) -> torch.Tensor:\n",
    "    \"\"\"\n",
    "    Denormalize sample from [0, 1] to initial range\n",
    "    \"\"\"\n",
    "    return sample * (max_train - min_train) + min_train"
   ]
  },
  {
   "cell_type": "markdown",
   "id": "official-booking",
   "metadata": {
    "id": "official-booking"
   },
   "source": [
    "Теперь повторите эксперимент из **задания 1.4**, обучаясь на нормированной целевой переменной. Сделаем также еще одно изменение: добавим [сигмоидную активацию](https://pytorch.org/docs/stable/generated/torch.nn.Sigmoid.html) после последнего линейного слоя сети. Таким образом мы гарантируем, что нейронная сеть предсказывает числа из промежутка $[0, 1]$. Использование активации - довольно распространенный прием, когда мы хотим получить числа из определенного диапазона значений. "
   ]
  },
  {
   "cell_type": "code",
   "execution_count": 21,
   "id": "olive-brick",
   "metadata": {
    "id": "olive-brick"
   },
   "outputs": [
    {
     "data": {
      "image/png": "[encoded data removed]",
      "text/plain": [
       "<Figure size 1500x500 with 2 Axes>"
      ]
     },
     "metadata": {},
     "output_type": "display_data"
    },
    {
     "name": "stdout",
     "output_type": "stream",
     "text": [
      "Validation MSE: 280.213\n"
     ]
    },
    {
     "data": {
      "text/plain": [
       "(279.38593971023226, 280.21265381412707)"
      ]
     },
     "execution_count": 21,
     "metadata": {},
     "output_type": "execute_result"
    }
   ],
   "source": [
    "def train_and_validate_norm(\n",
    "    model: nn.Module,\n",
    "    optimizer: torch.optim.Optimizer,\n",
    "    criterion,\n",
    "    metric,\n",
    "    train_loader,\n",
    "    val_loader,\n",
    "    num_epochs,\n",
    "    verbose=True,\n",
    "):\n",
    "    train_losses, val_losses = [], []\n",
    "    train_metrics, val_metrics = [], []\n",
    "\n",
    "    model.to(device)\n",
    "\n",
    "    for epoch in range(1, num_epochs + 1):\n",
    "        model.train()\n",
    "        running_loss, running_metric = 0, 0\n",
    "        pbar = (\n",
    "            tqdm(train_loader, desc=f\"Training {epoch}/{num_epochs}\")\n",
    "            if verbose\n",
    "            else train_loader\n",
    "        )\n",
    "\n",
    "        for i, (X_batch, y_batch) in enumerate(pbar, 1):\n",
    "            X_batch = X_batch.to(device)\n",
    "            y_batch = y_batch.to(device)\n",
    "            y_batch_norm = normalize(y_batch)\n",
    "\n",
    "            predictions: torch.Tensor = model(X_batch)\n",
    "            loss = criterion(predictions, y_batch_norm)\n",
    "            loss.backward()\n",
    "            optimizer.step()\n",
    "            optimizer.zero_grad()\n",
    "            \n",
    "            with torch.no_grad():\n",
    "                metric_value = metric(denormalize(predictions), y_batch)    # Хочу смотреть метрику на исходных данных,\n",
    "                                                                            # мб лучше было завести отдельный dataloader...\n",
    "                if isinstance(metric_value, torch.Tensor):\n",
    "                    metric_value = metric_value.item()                \n",
    "                running_loss += loss.item() * X_batch.shape[0]\n",
    "                running_metric += metric_value * X_batch.shape[0]\n",
    "\n",
    "            if verbose and i % 100 == 0:\n",
    "                pbar.set_postfix({\"loss\": loss.item(), \"MSE\": metric_value})\n",
    "\n",
    "        train_losses += [running_loss / len(train_loader.dataset)]\n",
    "        train_metrics += [running_metric / len(train_loader.dataset)]\n",
    "\n",
    "        model.eval()\n",
    "        running_loss, running_metric = 0, 0\n",
    "        pbar = (\n",
    "            tqdm(val_loader, desc=f\"Validating {epoch}/{num_epochs}\")\n",
    "            if verbose\n",
    "            else val_loader\n",
    "        )\n",
    "\n",
    "        for i, (X_batch, y_batch) in enumerate(pbar, 1):\n",
    "            X_batch = X_batch.to(device)\n",
    "            y_batch = y_batch.to(device)\n",
    "            y_batch_norm = normalize(y_batch)\n",
    "            \n",
    "            with torch.no_grad():\n",
    "                predictions = model(X_batch)\n",
    "                loss = criterion(predictions, y_batch_norm)\n",
    "                metric_value = metric(denormalize(predictions), y_batch)\n",
    "                if isinstance(metric_value, torch.Tensor):\n",
    "                    metric_value = metric_value.item()\n",
    "                running_loss += loss.item() * X_batch.shape[0]\n",
    "                running_metric += metric_value * X_batch.shape[0]\n",
    "\n",
    "            if verbose and i % 100 == 0:\n",
    "                pbar.set_postfix({\"loss\": loss.item(), \"MSE\": metric_value})\n",
    "\n",
    "        val_losses += [running_loss / len(val_loader.dataset)]\n",
    "        val_metrics += [running_metric / len(val_loader.dataset)]\n",
    "\n",
    "        if verbose:\n",
    "            plot_losses(train_losses, train_metrics, val_losses, val_metrics)\n",
    "\n",
    "    if verbose:\n",
    "        print(f\"Validation MSE: {val_metrics[-1]:.3f}\")\n",
    "\n",
    "    return train_metrics[-1], val_metrics[-1]\n",
    "\n",
    "class InitialModel_MSE_norm(nn.Module):\n",
    "    def __init__(self):\n",
    "        super().__init__()\n",
    "\n",
    "        self.l1 = nn.LazyLinear(out_features=128)\n",
    "        self.af1 = nn.ReLU()\n",
    "        self.l2 = nn.LazyLinear(out_features=1)\n",
    "        self.af2 = nn.Sigmoid()\n",
    "\n",
    "    def forward(self, x: torch.Tensor):\n",
    "        pred = self.l1(x)\n",
    "        pred = self.af1(pred)\n",
    "        pred = self.l2(pred)\n",
    "        pred = self.af2(pred)\n",
    "\n",
    "        return pred\n",
    "\n",
    "model = InitialModel_MSE_norm()\n",
    "optimizer = torch.optim.SGD(model.parameters(), lr=1e-4, fused=True)\n",
    "\n",
    "train_dataloader = DataLoader(TensorDataset(\n",
    "    torch.tensor(X_train, dtype=torch.float32),\n",
    "    torch.tensor(y_train, dtype=torch.float32).reshape(-1, 1),\n",
    "), batch_size=32)\n",
    "\n",
    "val_dataloader = DataLoader(TensorDataset(\n",
    "    torch.tensor(X_val, dtype=torch.float32),\n",
    "    torch.tensor(y_val, dtype=torch.float32).reshape(-1, 1),\n",
    "), batch_size=32)\n",
    "\n",
    "\n",
    "train_and_validate_norm(\n",
    "    model=model,\n",
    "    optimizer=optimizer,\n",
    "    criterion=nn.MSELoss(),\n",
    "    metric=lambda x, y: torch.mean((x - y)**2),\n",
    "    train_loader=train_dataloader,\n",
    "    val_loader=val_dataloader,\n",
    "    num_epochs=4\n",
    ")"
   ]
  },
  {
   "cell_type": "markdown",
   "id": "twenty-pulse",
   "metadata": {
    "id": "twenty-pulse"
   },
   "source": [
    "**Задание 1.7 (0.5 балла).** Сравните результаты этого эксперимента с предыдущим запуском. \n",
    "\n",
    "> **Ответ:** Процесс обучения улучшился в плане значений MSE, но из-за разного масштаба признаков, градиент не может нормально распространяться"
   ]
  },
  {
   "cell_type": "markdown",
   "id": "colonial-slovakia",
   "metadata": {
    "id": "colonial-slovakia"
   },
   "source": [
    "**Задание 1.8 (0.75 балла).** На этот раз попробуем отнормировать не только целевую переменную, но и сами данные, которые подаются сети на вход. Для них будем использовать нормализацию через среднее и стандартное отклонение. Преобразуйте данные и повторите прошлый эксперимент. Скорее всего, имеет смысл увеличить число эпох обучения."
   ]
  },
  {
   "cell_type": "code",
   "execution_count": 23,
   "id": "prospective-disabled",
   "metadata": {
    "id": "prospective-disabled"
   },
   "outputs": [
    {
     "data": {
      "image/png": "[encoded data removed]",
      "text/plain": [
       "<Figure size 1500x500 with 2 Axes>"
      ]
     },
     "metadata": {},
     "output_type": "display_data"
    },
    {
     "name": "stdout",
     "output_type": "stream",
     "text": [
      "Validation MSE: 85.989\n"
     ]
    },
    {
     "data": {
      "text/plain": [
       "(84.92664246578536, 85.98942262106567)"
      ]
     },
     "execution_count": 23,
     "metadata": {},
     "output_type": "execute_result"
    }
   ],
   "source": [
    "model = InitialModel_MSE_norm()\n",
    "optimizer = torch.optim.SGD(model.parameters(), lr=0.01, fused=True)\n",
    "\n",
    "ss = StandardScaler()\n",
    "X_train_scaled = ss.fit_transform(X_train)\n",
    "X_val_scaled = ss.transform(X_val)\n",
    "X_test_scaled = ss.transform(X_test)\n",
    "\n",
    "train_dataloader = DataLoader(TensorDataset(\n",
    "    torch.tensor(X_train_scaled, dtype=torch.float32),\n",
    "    torch.tensor(y_train, dtype=torch.float32).reshape(-1, 1),\n",
    "), batch_size=32)\n",
    "\n",
    "val_dataloader = DataLoader(TensorDataset(\n",
    "    torch.tensor(X_val_scaled, dtype=torch.float32),\n",
    "    torch.tensor(y_val, dtype=torch.float32).reshape(-1, 1),\n",
    "), batch_size=32)\n",
    "\n",
    "\n",
    "train_and_validate_norm(\n",
    "    model=model,\n",
    "    optimizer=optimizer,\n",
    "    criterion=nn.MSELoss(),\n",
    "    metric=nn.MSELoss(),\n",
    "    train_loader=train_dataloader,\n",
    "    val_loader=val_dataloader,\n",
    "    num_epochs=10\n",
    ")"
   ]
  },
  {
   "cell_type": "code",
   "execution_count": 24,
   "id": "4f7e5d3b",
   "metadata": {},
   "outputs": [],
   "source": [
    "def get_predictions(model, test_loader):\n",
    "    model.eval()\n",
    "    all_predictions = []\n",
    "    all_targets = []\n",
    "    \n",
    "    with torch.no_grad():\n",
    "        for X_batch, y_batch in test_loader:\n",
    "            X_batch = X_batch.to(device)\n",
    "            y_batch = y_batch.to(device)\n",
    "            \n",
    "            predicted = model(X_batch)\n",
    "            \n",
    "            all_predictions.extend(predicted.cpu().numpy())\n",
    "            all_targets.extend(y_batch.cpu().numpy())\n",
    "    \n",
    "    return np.array(all_predictions), np.array(all_targets)\n",
    "\n",
    "test_dataloader = DataLoader(TensorDataset(\n",
    "    torch.tensor(X_test_scaled, dtype=torch.float32),\n",
    "    torch.tensor(y_test, dtype=torch.long)\n",
    "), batch_size=32)\n",
    "\n",
    "pred, real = get_predictions(model, test_dataloader)"
   ]
  },
  {
   "cell_type": "code",
   "execution_count": 25,
   "id": "d5f08239",
   "metadata": {},
   "outputs": [
    {
     "name": "stdout",
     "output_type": "stream",
     "text": [
      "MSE: 83.838 vs Ridge: 89.750\n"
     ]
    }
   ],
   "source": [
    "mse = nn.functional.mse_loss(denormalize(torch.tensor(pred).to(device)), torch.tensor(real).to(device).reshape(-1, 1)).to(\"cpu\").numpy()\n",
    "print(f\"MSE: {mse:.3f} vs Ridge: {baseline_ridge_mse:.3f}\")"
   ]
  },
  {
   "cell_type": "markdown",
   "id": "opponent-decision",
   "metadata": {
    "id": "opponent-decision"
   },
   "source": [
    "Если вы все сделали правильно, то у вас должно было получиться качество, сравнимое с `Ridge` регрессией.\n",
    "\n",
    "**Мораль:** как видите, нам пришлось сделать очень много хитрых телодвижений, чтобы нейронная сеть работала хотя бы так же, как и простая линейная модель. Здесь, конечно, показан совсем экстремальный случай, когда без нормализации данных нейронная сеть просто не учится. Как правило, в реальности завести нейронную сеть из коробки не очень сложно, но вот заставить ее работать на полную &mdash; куда более трудоемкая задача. Написание пайплайнов обучения нейросетевых моделей требует большой аккуратности, а дебаг часто превращается в угадайку. К счастью, очень часто на помощь приходит интуиция, и мы надеемся, что вы сможете выработать ее в течение нашего курса. Начнем с двух советов, которые стоит принять на вооружение:\n",
    "\n",
    "- Обязательно начинаем любые эксперименты с бейзлайнов: без них мы бы не поняли, что нейронная сеть не учится в принципе.\n",
    "- При постановке эксперментов старайтесь делать минимальное количество изменений за раз (в идеале одно!): только так можно понять, какие конкретно изменения влияют на результат."
   ]
  },
  {
   "cell_type": "markdown",
   "id": "royal-cholesterol",
   "metadata": {
    "id": "royal-cholesterol"
   },
   "source": [
    "## Часть 2. Улучшаем нейронную сеть (5 баллов)\n",
    "\n",
    "Продолжим экспериментировать с нейронной сетью, чтобы добиться еще лучшего качества."
   ]
  },
  {
   "cell_type": "markdown",
   "id": "ignored-active",
   "metadata": {
    "id": "ignored-active"
   },
   "source": [
    "**Задание 2.1 (1 балл).** Давайте попробуем другие оптимизаторы. Обучите нейросеть с помощью SGD+momentum и Adam. Опишите свои наблюдения и в дальнейших запусках используйте лучший оптимизатор. Для Adam обычно берут learning rate поменьше, в районе $10^{-3}$."
   ]
  },
  {
   "cell_type": "code",
   "execution_count": 26,
   "id": "eastern-gnome",
   "metadata": {
    "id": "eastern-gnome"
   },
   "outputs": [
    {
     "data": {
      "image/png": "[encoded data removed]",
      "text/plain": [
       "<Figure size 1500x500 with 2 Axes>"
      ]
     },
     "metadata": {},
     "output_type": "display_data"
    },
    {
     "name": "stdout",
     "output_type": "stream",
     "text": [
      "Validation MSE: 84.203\n"
     ]
    },
    {
     "data": {
      "text/plain": [
       "(82.87332067076711, 84.20299201547728)"
      ]
     },
     "execution_count": 26,
     "metadata": {},
     "output_type": "execute_result"
    }
   ],
   "source": [
    "model = InitialModel_MSE_norm()\n",
    "optimizer = torch.optim.SGD(model.parameters(), momentum=0.3, lr=0.01, fused=True)\n",
    "\n",
    "ss = StandardScaler()\n",
    "X_train_scaled = ss.fit_transform(X_train)\n",
    "X_val_scaled = ss.transform(X_val)\n",
    "X_test_scaled = ss.transform(X_test)\n",
    "\n",
    "train_dataloader = DataLoader(TensorDataset(\n",
    "    torch.tensor(X_train_scaled, dtype=torch.float32),\n",
    "    torch.tensor(y_train, dtype=torch.float32).reshape(-1, 1),\n",
    "), batch_size=32)\n",
    "\n",
    "val_dataloader = DataLoader(TensorDataset(\n",
    "    torch.tensor(X_val_scaled, dtype=torch.float32),\n",
    "    torch.tensor(y_val, dtype=torch.float32).reshape(-1, 1),\n",
    "), batch_size=32)\n",
    "\n",
    "\n",
    "train_and_validate_norm(\n",
    "    model=model,\n",
    "    optimizer=optimizer,\n",
    "    criterion=nn.MSELoss(),\n",
    "    metric=nn.MSELoss(),\n",
    "    train_loader=train_dataloader,\n",
    "    val_loader=val_dataloader,\n",
    "    num_epochs=10\n",
    ")"
   ]
  },
  {
   "cell_type": "code",
   "execution_count": 27,
   "id": "827dbce9",
   "metadata": {},
   "outputs": [
    {
     "name": "stdout",
     "output_type": "stream",
     "text": [
      "MSE: 81.714\n"
     ]
    }
   ],
   "source": [
    "pred, real = get_predictions(model, test_dataloader)\n",
    "mse = nn.functional.mse_loss(denormalize(torch.tensor(pred).to(device)), torch.tensor(real).to(device).reshape(-1, 1)).to(\"cpu\").numpy()\n",
    "print(f\"MSE: {mse:.3f}\")"
   ]
  },
  {
   "cell_type": "code",
   "execution_count": 29,
   "id": "cf43995e",
   "metadata": {},
   "outputs": [
    {
     "data": {
      "image/png": "[encoded data removed]",
      "text/plain": [
       "<Figure size 1500x500 with 2 Axes>"
      ]
     },
     "metadata": {},
     "output_type": "display_data"
    },
    {
     "name": "stdout",
     "output_type": "stream",
     "text": [
      "Validation MSE: 78.622\n"
     ]
    },
    {
     "data": {
      "text/plain": [
       "(74.70013253920692, 78.62198175804575)"
      ]
     },
     "execution_count": 29,
     "metadata": {},
     "output_type": "execute_result"
    }
   ],
   "source": [
    "model = InitialModel_MSE_norm()\n",
    "optimizer = torch.optim.Adam(model.parameters(), betas=(0.9, 0.999), lr=1.5e-3, fused=True)\n",
    "\n",
    "ss = StandardScaler()\n",
    "X_train_scaled = ss.fit_transform(X_train)\n",
    "X_val_scaled = ss.transform(X_val)\n",
    "X_test_scaled = ss.transform(X_test)\n",
    "\n",
    "train_dataloader = DataLoader(TensorDataset(\n",
    "    torch.tensor(X_train_scaled, dtype=torch.float32),\n",
    "    torch.tensor(y_train, dtype=torch.float32).reshape(-1, 1),\n",
    "), batch_size=32)\n",
    "\n",
    "val_dataloader = DataLoader(TensorDataset(\n",
    "    torch.tensor(X_val_scaled, dtype=torch.float32),\n",
    "    torch.tensor(y_val, dtype=torch.float32).reshape(-1, 1),\n",
    "), batch_size=32)\n",
    "\n",
    "\n",
    "train_and_validate_norm(\n",
    "    model=model,\n",
    "    optimizer=optimizer,\n",
    "    criterion=nn.MSELoss(),\n",
    "    metric=nn.MSELoss(),\n",
    "    train_loader=train_dataloader,\n",
    "    val_loader=val_dataloader,\n",
    "    num_epochs=10\n",
    ")"
   ]
  },
  {
   "cell_type": "code",
   "execution_count": 30,
   "id": "746b9168",
   "metadata": {},
   "outputs": [
    {
     "name": "stdout",
     "output_type": "stream",
     "text": [
      "MSE: 78.464\n"
     ]
    }
   ],
   "source": [
    "pred, real = get_predictions(model, test_dataloader)\n",
    "mse = nn.functional.mse_loss(denormalize(torch.tensor(pred).to(device)), torch.tensor(real).to(device).reshape(-1, 1)).to(\"cpu\").numpy()\n",
    "print(f\"MSE: {mse:.3f}\")"
   ]
  },
  {
   "cell_type": "markdown",
   "id": "e5de952a",
   "metadata": {},
   "source": [
    "> Видимо, задача не слишком сложная, и все оптимизаторы справляются с ней достаточно хорошо  \n",
    "По идее Adam должен быть получше SGD+momentum"
   ]
  },
  {
   "cell_type": "markdown",
   "id": "hispanic-postage",
   "metadata": {
    "id": "hispanic-postage"
   },
   "source": [
    "**Задание 2.2 (1 балл).** Теперь сделаем нашу нейронную сеть более сложной. Попробуйте сделать сеть:\n",
    "\n",
    "- более широкой (то есть увеличить размерность скрытого слоя, например, вдвое)\n",
    "- более глубокой (то есть добавить еще один скрытый слой)\n",
    "\n",
    "Опишите, как увеличение числа параметров модели влияет на качество на обучающей и валидационной выборках."
   ]
  },
  {
   "cell_type": "code",
   "execution_count": 36,
   "id": "1d466362",
   "metadata": {
    "id": "1d466362"
   },
   "outputs": [
    {
     "data": {
      "image/png": "[encoded data removed]",
      "text/plain": [
       "<Figure size 1500x500 with 2 Axes>"
      ]
     },
     "metadata": {},
     "output_type": "display_data"
    },
    {
     "name": "stdout",
     "output_type": "stream",
     "text": [
      "Validation MSE: 80.205\n"
     ]
    },
    {
     "data": {
      "text/plain": [
       "(72.70933195749326, 80.20494013530327)"
      ]
     },
     "execution_count": 36,
     "metadata": {},
     "output_type": "execute_result"
    }
   ],
   "source": [
    "class yet_another_model(nn.Module):\n",
    "    def __init__(self):\n",
    "        super().__init__()\n",
    "\n",
    "        self.l1 = nn.LazyLinear(out_features=256)\n",
    "        self.af1 = nn.ReLU()\n",
    "        self.l2 = nn.LazyLinear(out_features=1)\n",
    "        self.af2 = nn.Sigmoid()\n",
    "\n",
    "    def forward(self, x: torch.Tensor):\n",
    "        pred = self.l1(x)\n",
    "        pred = self.af1(pred)\n",
    "        pred = self.l2(pred)\n",
    "        pred = self.af2(pred)\n",
    "\n",
    "        return pred\n",
    "\n",
    "model = yet_another_model()\n",
    "optimizer = torch.optim.Adam(model.parameters(), betas=(0.9, 0.999), lr=1e-3, fused=True)\n",
    "\n",
    "train_dataloader = DataLoader(TensorDataset(\n",
    "    torch.tensor(X_train_scaled, dtype=torch.float32),\n",
    "    torch.tensor(y_train, dtype=torch.float32).reshape(-1, 1),\n",
    "), batch_size=32)\n",
    "\n",
    "val_dataloader = DataLoader(TensorDataset(\n",
    "    torch.tensor(X_val_scaled, dtype=torch.float32),\n",
    "    torch.tensor(y_val, dtype=torch.float32).reshape(-1, 1),\n",
    "), batch_size=32)\n",
    "\n",
    "\n",
    "train_and_validate_norm(\n",
    "    model=model,\n",
    "    optimizer=optimizer,\n",
    "    criterion=nn.MSELoss(),\n",
    "    metric=nn.MSELoss(),\n",
    "    train_loader=train_dataloader,\n",
    "    val_loader=val_dataloader,\n",
    "    num_epochs=10\n",
    ")"
   ]
  },
  {
   "cell_type": "code",
   "execution_count": 37,
   "id": "cae7a9ee",
   "metadata": {},
   "outputs": [
    {
     "name": "stdout",
     "output_type": "stream",
     "text": [
      "MSE: 80.175\n"
     ]
    }
   ],
   "source": [
    "pred, real = get_predictions(model, test_dataloader)\n",
    "mse = nn.functional.mse_loss(denormalize(torch.tensor(pred).to(device)), torch.tensor(real).to(device).reshape(-1, 1)).to(\"cpu\").numpy()\n",
    "print(f\"MSE: {mse:.3f}\")"
   ]
  },
  {
   "cell_type": "code",
   "execution_count": 38,
   "id": "dff5ae47",
   "metadata": {},
   "outputs": [
    {
     "data": {
      "image/png": "[encoded data removed]",
      "text/plain": [
       "<Figure size 1500x500 with 2 Axes>"
      ]
     },
     "metadata": {},
     "output_type": "display_data"
    },
    {
     "name": "stdout",
     "output_type": "stream",
     "text": [
      "Validation MSE: 79.629\n"
     ]
    },
    {
     "data": {
      "text/plain": [
       "(67.54153903904583, 79.62923234674693)"
      ]
     },
     "execution_count": 38,
     "metadata": {},
     "output_type": "execute_result"
    }
   ],
   "source": [
    "class yet_another_model(nn.Module):\n",
    "    def __init__(self):\n",
    "        super().__init__()\n",
    "\n",
    "        self.l1 = nn.LazyLinear(out_features=128)\n",
    "        self.af1 = nn.ReLU()\n",
    "        self.l2 = nn.LazyLinear(out_features=128)\n",
    "        self.af2 = nn.ReLU()\n",
    "        self.l3 = nn.LazyLinear(out_features=1)\n",
    "        self.af3 = nn.Sigmoid()\n",
    "\n",
    "    def forward(self, x: torch.Tensor):\n",
    "        pred = self.l1(x)\n",
    "        pred = self.af1(pred)\n",
    "        pred = self.l2(pred)\n",
    "        pred = self.af2(pred)\n",
    "        pred = self.l3(pred)\n",
    "        pred = self.af3(pred)\n",
    "\n",
    "        return pred\n",
    "\n",
    "model = yet_another_model()\n",
    "optimizer = torch.optim.Adam(model.parameters(), betas=(0.9, 0.999), lr=1e-3, fused=True)\n",
    "\n",
    "train_dataloader = DataLoader(TensorDataset(\n",
    "    torch.tensor(X_train_scaled, dtype=torch.float32),\n",
    "    torch.tensor(y_train, dtype=torch.float32).reshape(-1, 1),\n",
    "), batch_size=32)\n",
    "\n",
    "val_dataloader = DataLoader(TensorDataset(\n",
    "    torch.tensor(X_val_scaled, dtype=torch.float32),\n",
    "    torch.tensor(y_val, dtype=torch.float32).reshape(-1, 1),\n",
    "), batch_size=32)\n",
    "\n",
    "\n",
    "train_and_validate_norm(\n",
    "    model=model,\n",
    "    optimizer=optimizer,\n",
    "    criterion=nn.MSELoss(),\n",
    "    metric=nn.MSELoss(),\n",
    "    train_loader=train_dataloader,\n",
    "    val_loader=val_dataloader,\n",
    "    num_epochs=10\n",
    ")"
   ]
  },
  {
   "cell_type": "code",
   "execution_count": null,
   "id": "2e318550",
   "metadata": {},
   "outputs": [],
   "source": [
    "pred, real = get_predictions(model, test_dataloader)\n",
    "mse = nn.functional.mse_loss(denormalize(torch.tensor(pred).to(device)), torch.tensor(real).to(device).reshape(-1, 1)).to(\"cpu\").numpy()\n",
    "print(f\"MSE: {mse:.3f}\")"
   ]
  },
  {
   "cell_type": "markdown",
   "id": "d022fd09",
   "metadata": {},
   "source": [
    "> Постепенно ошибка на train продолжает падать, а на eval начинает расти, т.е. модель постепенно переобучается"
   ]
  },
  {
   "cell_type": "markdown",
   "id": "454acdb1",
   "metadata": {
    "id": "454acdb1"
   },
   "source": [
    "**Задание 2.3 (1 балл).** Как вы должны были заметить, более сложная модель стала сильнее переобучаться. Попробуем добавить в обучение регуляризацию, чтобы бороться с переобучением. Добавьте слой дропаута ([`nn.Dropout`](https://pytorch.org/docs/stable/generated/torch.nn.Dropout.html#torch.nn.Dropout)) с параметром $p=0.2$ после каждого линейного слоя, кроме последнего. Почитать про дропаут можете в следующем [блогпосте](https://medium.com/@amarbudhiraja/https-medium-com-amarbudhiraja-learning-less-to-learn-better-dropout-in-deep-machine-learning-74334da4bfc5) или в оригинальной [статье](https://jmlr.org/papers/volume15/srivastava14a/srivastava14a.pdf)\n",
    "\n",
    "Опишите результаты. "
   ]
  },
  {
   "cell_type": "code",
   "execution_count": 39,
   "id": "483a941a",
   "metadata": {},
   "outputs": [
    {
     "data": {
      "image/png": "[encoded data removed]",
      "text/plain": [
       "<Figure size 1500x500 with 2 Axes>"
      ]
     },
     "metadata": {},
     "output_type": "display_data"
    },
    {
     "name": "stdout",
     "output_type": "stream",
     "text": [
      "Validation MSE: 76.162\n"
     ]
    },
    {
     "data": {
      "text/plain": [
       "(74.10599414838428, 76.16180211423622)"
      ]
     },
     "execution_count": 39,
     "metadata": {},
     "output_type": "execute_result"
    }
   ],
   "source": [
    "class yet_another_model(nn.Module):\n",
    "    def __init__(self):\n",
    "        super().__init__()\n",
    "\n",
    "        self.l1 = nn.LazyLinear(out_features=128)\n",
    "        self.do1 = nn.Dropout(p=0.2)\n",
    "        self.af1 = nn.ReLU()\n",
    "\n",
    "        self.l2 = nn.LazyLinear(out_features=128)\n",
    "        self.do2 = nn.Dropout(p=0.2)\n",
    "        self.af2 = nn.ReLU()\n",
    "\n",
    "        self.l3 = nn.LazyLinear(out_features=1)\n",
    "        self.af3 = nn.Sigmoid()\n",
    "\n",
    "    def forward(self, x: torch.Tensor):\n",
    "        pred = self.l1(x)\n",
    "        pred = self.do1(pred)\n",
    "        pred = self.af1(pred)\n",
    "\n",
    "        pred = self.l2(pred)\n",
    "        pred = self.do2(pred)\n",
    "        pred = self.af2(pred)\n",
    "\n",
    "        pred = self.l3(pred)\n",
    "        pred = self.af3(pred)\n",
    "\n",
    "        return pred\n",
    "\n",
    "model = yet_another_model()\n",
    "optimizer = torch.optim.Adam(model.parameters(), betas=(0.9, 0.999), lr=1e-3, fused=True)\n",
    "\n",
    "train_dataloader = DataLoader(TensorDataset(\n",
    "    torch.tensor(X_train_scaled, dtype=torch.float32),\n",
    "    torch.tensor(y_train, dtype=torch.float32).reshape(-1, 1),\n",
    "), batch_size=32)\n",
    "\n",
    "val_dataloader = DataLoader(TensorDataset(\n",
    "    torch.tensor(X_val_scaled, dtype=torch.float32),\n",
    "    torch.tensor(y_val, dtype=torch.float32).reshape(-1, 1),\n",
    "), batch_size=32)\n",
    "\n",
    "\n",
    "train_and_validate_norm(\n",
    "    model=model,\n",
    "    optimizer=optimizer,\n",
    "    criterion=nn.MSELoss(),\n",
    "    metric=nn.MSELoss(),\n",
    "    train_loader=train_dataloader,\n",
    "    val_loader=val_dataloader,\n",
    "    num_epochs=15\n",
    ")"
   ]
  },
  {
   "cell_type": "code",
   "execution_count": 40,
   "id": "4839c8bf",
   "metadata": {},
   "outputs": [
    {
     "name": "stdout",
     "output_type": "stream",
     "text": [
      "MSE: 75.820\n"
     ]
    }
   ],
   "source": [
    "pred, real = get_predictions(model, test_dataloader)\n",
    "mse = nn.functional.mse_loss(denormalize(torch.tensor(pred).to(device)), torch.tensor(real).to(device).reshape(-1, 1)).to(\"cpu\").numpy()\n",
    "print(f\"MSE: {mse:.3f}\")"
   ]
  },
  {
   "cell_type": "markdown",
   "id": "ac5269f9",
   "metadata": {},
   "source": [
    "> Моделька с dropout намного стабильнее: ошибки на train и val идут рядом друг с дружкой, и постепенно модель сходится"
   ]
  },
  {
   "cell_type": "markdown",
   "id": "9dcbadcc",
   "metadata": {
    "id": "9dcbadcc"
   },
   "source": [
    "**Задание 2.4 (1.5 балла).** Теперь, когда мы определились с выбором архитектуры нейронной сети, пора заняться рутиной DL-инженера &mdash; перебором гиперпараметров. Подберите оптимальное значение lr по значению MSE на валидации (по логарифмической сетке, достаточно посмотреть 3-4 значения), можете воспользоваться `verbose=False` в функции `train_and_validate`.\n",
    "\n",
    "Также подберем оптимальное значение параметра weight decay для данного lr. Weight decay &mdash; это аналог L2-регуляризации для нейронных сетей. Почитать о нем можно, например, [здесь](https://paperswithcode.com/method/weight-decay). В PyTorch он задается как параметр оптимизатора `weight_decay`. Подберите оптимальное значение weight decay по логарифимической сетке (его типичные значения лежат в диапазоне $[10^{-6}, 10^{-3}]$, но не забудьте включить нулевое значение в сетку).\n",
    "\n",
    "Постройте графики зависимости MSE на трейне и на валидации от значений параметров. Прокомментируйте получившиеся зависимости."
   ]
  },
  {
   "cell_type": "code",
   "execution_count": null,
   "id": "8UqadoheOQSu",
   "metadata": {
    "id": "8UqadoheOQSu"
   },
   "outputs": [],
   "source": [
    "def run_optim(\n",
    "    lr: float,\n",
    "    wd: float\n",
    "):\n",
    "    model = yet_another_model()\n",
    "    optimizer = torch.optim.Adam(model.parameters(), betas=(0.9, 0.999), lr=lr, weight_decay=wd, fused=True)\n",
    "\n",
    "    train_dataloader = DataLoader(TensorDataset(\n",
    "        torch.tensor(X_train_scaled, dtype=torch.float32),\n",
    "        torch.tensor(y_train, dtype=torch.float32).reshape(-1, 1),\n",
    "    ), batch_size=32)\n",
    "\n",
    "    val_dataloader = DataLoader(TensorDataset(\n",
    "        torch.tensor(X_val_scaled, dtype=torch.float32),\n",
    "        torch.tensor(y_val, dtype=torch.float32).reshape(-1, 1),\n",
    "    ), batch_size=32)\n",
    "\n",
    "    _, val_metrics = train_and_validate_norm(\n",
    "        model=model,\n",
    "        optimizer=optimizer,\n",
    "        criterion=nn.MSELoss(),\n",
    "        metric=nn.MSELoss(),\n",
    "        train_loader=train_dataloader,\n",
    "        val_loader=val_dataloader,\n",
    "        num_epochs=10,\n",
    "        verbose=False\n",
    "    )\n",
    "\n",
    "    print(f\"LR: {lr:.0e}, WD: {wd:.0e}, MSE val: {val_metrics:.3f}\")\n",
    "\n",
    "lr_list = np.logspace(-4, -1, base=10, num=4, endpoint=True)\n",
    "wd_list = np.logspace(-6, -3, base=10, num=4, endpoint=True)"
   ]
  },
  {
   "cell_type": "code",
   "execution_count": 42,
   "id": "560087f4",
   "metadata": {},
   "outputs": [
    {
     "name": "stdout",
     "output_type": "stream",
     "text": [
      "LR: 1e-04, WD: 0e+00, MSE val: 76.627\n",
      "LR: 1e-03, WD: 0e+00, MSE val: 76.690\n",
      "LR: 1e-02, WD: 0e+00, MSE val: 83.289\n",
      "LR: 1e-01, WD: 0e+00, MSE val: 280.064\n"
     ]
    }
   ],
   "source": [
    "# Буду перебирать отдельно learning rate и weight decay\n",
    "\n",
    "for lr in lr_list:\n",
    "    run_optim(lr, 0)"
   ]
  },
  {
   "cell_type": "markdown",
   "id": "0d25df8a",
   "metadata": {},
   "source": [
    "> При больших learning rate модель не сходится к точке оптимума, при малых - не успевает за отведенное число эпох"
   ]
  },
  {
   "cell_type": "code",
   "execution_count": 44,
   "id": "fd1bf659",
   "metadata": {},
   "outputs": [
    {
     "name": "stdout",
     "output_type": "stream",
     "text": [
      "LR: 1e-04, WD: 1e-06, MSE val: 76.372\n",
      "LR: 1e-04, WD: 1e-05, MSE val: 76.577\n",
      "LR: 1e-04, WD: 1e-04, MSE val: 78.477\n",
      "LR: 1e-04, WD: 1e-03, MSE val: 83.875\n"
     ]
    }
   ],
   "source": [
    "# возьмем лучший lr, будем перебирать ненулевые wd (wd=0 был в предыдущих прогонах)\n",
    "\n",
    "for wd in wd_list:\n",
    "    run_optim(1e-04, wd)"
   ]
  },
  {
   "cell_type": "markdown",
   "id": "7a1d1ee8",
   "metadata": {},
   "source": [
    "> С weight decay = 10^(-6) стало чуть лучше, хотя мне кажется эффекта от dropout вполне достаточно"
   ]
  },
  {
   "cell_type": "markdown",
   "id": "8nk3dvibo6SE",
   "metadata": {
    "id": "8nk3dvibo6SE"
   },
   "source": [
    "Как вы могли заметить, еще одна рутина DL-инженера &mdash; утомительное ожидание обучения моделей.\n",
    "\n",
    "**Задание 2.5 (0.5 балла).** Мы провели большое число экспериментов и подобрали оптимальную архитектуру и гиперпараметры. Пришло время обучить модель на полной обучающей выборке, померять качество на тестовой выборке и сравнить с бейзлайнами. Проделайте это. "
   ]
  },
  {
   "cell_type": "code",
   "execution_count": 53,
   "id": "pR4FJ4PYYajk",
   "metadata": {
    "id": "pR4FJ4PYYajk"
   },
   "outputs": [
    {
     "data": {
      "application/vnd.jupyter.widget-view+json": {
       "model_id": "ed96a12464734c029f8f9d16a29e73b2",
       "version_major": 2,
       "version_minor": 0
      },
      "text/plain": [
       "Training 1/15:   0%|          | 0/12079 [00:00<?, ?it/s]"
      ]
     },
     "metadata": {},
     "output_type": "display_data"
    },
    {
     "data": {
      "application/vnd.jupyter.widget-view+json": {
       "model_id": "8f357015a7274f77b686220cbdf933c5",
       "version_major": 2,
       "version_minor": 0
      },
      "text/plain": [
       "Training 2/15:   0%|          | 0/12079 [00:00<?, ?it/s]"
      ]
     },
     "metadata": {},
     "output_type": "display_data"
    },
    {
     "data": {
      "application/vnd.jupyter.widget-view+json": {
       "model_id": "48cac212d7e94962a7b4cf64daeb4375",
       "version_major": 2,
       "version_minor": 0
      },
      "text/plain": [
       "Training 3/15:   0%|          | 0/12079 [00:00<?, ?it/s]"
      ]
     },
     "metadata": {},
     "output_type": "display_data"
    },
    {
     "data": {
      "application/vnd.jupyter.widget-view+json": {
       "model_id": "fd58240787a8433e803ef8283b2bb942",
       "version_major": 2,
       "version_minor": 0
      },
      "text/plain": [
       "Training 4/15:   0%|          | 0/12079 [00:00<?, ?it/s]"
      ]
     },
     "metadata": {},
     "output_type": "display_data"
    },
    {
     "data": {
      "application/vnd.jupyter.widget-view+json": {
       "model_id": "a2bd20e9de644f9aab3fb2d67db4d051",
       "version_major": 2,
       "version_minor": 0
      },
      "text/plain": [
       "Training 5/15:   0%|          | 0/12079 [00:00<?, ?it/s]"
      ]
     },
     "metadata": {},
     "output_type": "display_data"
    },
    {
     "data": {
      "application/vnd.jupyter.widget-view+json": {
       "model_id": "56b250c988e441c3838b77d8c63656a8",
       "version_major": 2,
       "version_minor": 0
      },
      "text/plain": [
       "Training 6/15:   0%|          | 0/12079 [00:00<?, ?it/s]"
      ]
     },
     "metadata": {},
     "output_type": "display_data"
    },
    {
     "data": {
      "application/vnd.jupyter.widget-view+json": {
       "model_id": "7f4985a9e91e4f20a45a39389489a861",
       "version_major": 2,
       "version_minor": 0
      },
      "text/plain": [
       "Training 7/15:   0%|          | 0/12079 [00:00<?, ?it/s]"
      ]
     },
     "metadata": {},
     "output_type": "display_data"
    },
    {
     "data": {
      "application/vnd.jupyter.widget-view+json": {
       "model_id": "e74418fb4b434d9daeaad9a3b5b2ab01",
       "version_major": 2,
       "version_minor": 0
      },
      "text/plain": [
       "Training 8/15:   0%|          | 0/12079 [00:00<?, ?it/s]"
      ]
     },
     "metadata": {},
     "output_type": "display_data"
    },
    {
     "data": {
      "application/vnd.jupyter.widget-view+json": {
       "model_id": "566d1c5cfb894eed95553d9b64ced85b",
       "version_major": 2,
       "version_minor": 0
      },
      "text/plain": [
       "Training 9/15:   0%|          | 0/12079 [00:00<?, ?it/s]"
      ]
     },
     "metadata": {},
     "output_type": "display_data"
    },
    {
     "data": {
      "application/vnd.jupyter.widget-view+json": {
       "model_id": "eca1e2407fa1476198cc4bd91abd0df7",
       "version_major": 2,
       "version_minor": 0
      },
      "text/plain": [
       "Training 10/15:   0%|          | 0/12079 [00:00<?, ?it/s]"
      ]
     },
     "metadata": {},
     "output_type": "display_data"
    },
    {
     "data": {
      "application/vnd.jupyter.widget-view+json": {
       "model_id": "3dd84a324de44ba78f3bb655839e3427",
       "version_major": 2,
       "version_minor": 0
      },
      "text/plain": [
       "Training 11/15:   0%|          | 0/12079 [00:00<?, ?it/s]"
      ]
     },
     "metadata": {},
     "output_type": "display_data"
    },
    {
     "data": {
      "application/vnd.jupyter.widget-view+json": {
       "model_id": "30bb6ed9db1e4f9e83652937a08c56c6",
       "version_major": 2,
       "version_minor": 0
      },
      "text/plain": [
       "Training 12/15:   0%|          | 0/12079 [00:00<?, ?it/s]"
      ]
     },
     "metadata": {},
     "output_type": "display_data"
    },
    {
     "data": {
      "application/vnd.jupyter.widget-view+json": {
       "model_id": "42013a041f154b078d602a483a8e7dc3",
       "version_major": 2,
       "version_minor": 0
      },
      "text/plain": [
       "Training 13/15:   0%|          | 0/12079 [00:00<?, ?it/s]"
      ]
     },
     "metadata": {},
     "output_type": "display_data"
    },
    {
     "data": {
      "application/vnd.jupyter.widget-view+json": {
       "model_id": "036d185caf714b2c96786aab1dca8bce",
       "version_major": 2,
       "version_minor": 0
      },
      "text/plain": [
       "Training 14/15:   0%|          | 0/12079 [00:00<?, ?it/s]"
      ]
     },
     "metadata": {},
     "output_type": "display_data"
    },
    {
     "data": {
      "application/vnd.jupyter.widget-view+json": {
       "model_id": "fa1acf8bb8fc478fbcd107e9613e7b75",
       "version_major": 2,
       "version_minor": 0
      },
      "text/plain": [
       "Training 15/15:   0%|          | 0/12079 [00:00<?, ?it/s]"
      ]
     },
     "metadata": {},
     "output_type": "display_data"
    },
    {
     "name": "stdout",
     "output_type": "stream",
     "text": [
      "Train MSE: 74.036\n"
     ]
    }
   ],
   "source": [
    "def train_final(\n",
    "    model: nn.Module,\n",
    "    optimizer: torch.optim.Optimizer,\n",
    "    criterion,\n",
    "    metric,\n",
    "    train_loader,\n",
    "    num_epochs,\n",
    "    verbose=True,\n",
    "):\n",
    "    train_metrics = []\n",
    "\n",
    "    model.to(device)\n",
    "\n",
    "    for epoch in range(1, num_epochs + 1):\n",
    "        model.train()\n",
    "        running_loss, running_metric = 0, 0\n",
    "        pbar = (\n",
    "            tqdm(train_loader, desc=f\"Training {epoch}/{num_epochs}\")\n",
    "            if verbose\n",
    "            else train_loader\n",
    "        )\n",
    "\n",
    "        for i, (X_batch, y_batch) in enumerate(pbar, 1):\n",
    "            X_batch = X_batch.to(device)\n",
    "            y_batch = y_batch.to(device)\n",
    "            y_batch_norm = normalize(y_batch)\n",
    "\n",
    "            predictions: torch.Tensor = model(X_batch)\n",
    "            loss = criterion(predictions, y_batch_norm)\n",
    "            loss.backward()\n",
    "            optimizer.step()\n",
    "            optimizer.zero_grad()\n",
    "            \n",
    "            with torch.no_grad():\n",
    "                metric_value = metric(denormalize(predictions), y_batch)\n",
    "                if isinstance(metric_value, torch.Tensor):\n",
    "                    metric_value = metric_value.item()                \n",
    "                running_loss += loss.item() * X_batch.shape[0]\n",
    "                running_metric += metric_value * X_batch.shape[0]\n",
    "\n",
    "            if verbose and i % 100 == 0:\n",
    "                pbar.set_postfix({\"loss\": loss.item(), \"MSE\": metric_value})\n",
    "\n",
    "        train_metrics += [running_metric / len(train_loader.dataset)]\n",
    "\n",
    "    if verbose:\n",
    "        print(f\"Train MSE: {train_metrics[-1]:.3f}\")\n",
    "\n",
    "\n",
    "model = yet_another_model()\n",
    "optimizer = torch.optim.Adam(model.parameters(), betas=(0.9, 0.999), lr=1e-04, weight_decay=1e-06, fused=True)\n",
    "\n",
    "train_dataloader = DataLoader(TensorDataset(\n",
    "    torch.tensor(np.concat([X_train_scaled, X_val_scaled]), dtype=torch.float32),\n",
    "    torch.tensor(np.concat([y_train, y_val]), dtype=torch.float32).reshape(-1, 1),\n",
    "), batch_size=32)\n",
    "\n",
    "test_dataloader = DataLoader(TensorDataset(\n",
    "    torch.tensor(X_test_scaled, dtype=torch.float32),\n",
    "    torch.tensor(y_test, dtype=torch.float32).reshape(-1, 1),\n",
    "), batch_size=32)\n",
    "\n",
    "train_final(\n",
    "    model=model,\n",
    "    optimizer=optimizer,\n",
    "    criterion=nn.MSELoss(),\n",
    "    metric=nn.MSELoss(),\n",
    "    train_loader=train_dataloader,\n",
    "    num_epochs=15\n",
    ")"
   ]
  },
  {
   "cell_type": "code",
   "execution_count": 55,
   "id": "0be737be",
   "metadata": {},
   "outputs": [
    {
     "name": "stdout",
     "output_type": "stream",
     "text": [
      "MSE: 74.944\n"
     ]
    }
   ],
   "source": [
    "pred, real = get_predictions(model, test_dataloader)\n",
    "mse = nn.functional.mse_loss(denormalize(torch.tensor(pred).to(device)), torch.tensor(real).to(device).reshape(-1, 1)).to(\"cpu\").numpy()\n",
    "print(f\"MSE: {mse:.3f}\")"
   ]
  },
  {
   "cell_type": "markdown",
   "id": "15d23ea0",
   "metadata": {},
   "source": [
    "> MSE (test): 74.944\n",
    "\n",
    "Результаты лучше, чем у Baseline"
   ]
  }
 ],
 "metadata": {
  "colab": {
   "collapsed_sections": [],
   "provenance": []
  },
  "kernelspec": {
   "display_name": ".venv",
   "language": "python",
   "name": "python3"
  },
  "language_info": {
   "codemirror_mode": {
    "name": "ipython",
    "version": 3
   },
   "file_extension": ".py",
   "mimetype": "text/x-python",
   "name": "python",
   "nbconvert_exporter": "python",
   "pygments_lexer": "ipython3",
   "version": "3.10.16"
  }
 },
 "nbformat": 4,
 "nbformat_minor": 5
}
